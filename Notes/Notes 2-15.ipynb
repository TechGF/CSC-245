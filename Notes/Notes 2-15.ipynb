{
 "cells": [
  {
   "cell_type": "code",
   "execution_count": 1,
   "id": "71083215",
   "metadata": {},
   "outputs": [],
   "source": [
    "import numpy as np"
   ]
  },
  {
   "cell_type": "code",
   "execution_count": 2,
   "id": "b9b090e1",
   "metadata": {},
   "outputs": [],
   "source": [
    "# we can take a list and convert it to a numpy array\n",
    "my_nums = [2, 5, 6, 12]"
   ]
  },
  {
   "cell_type": "code",
   "execution_count": 3,
   "id": "4ceeaa48",
   "metadata": {},
   "outputs": [],
   "source": [
    "nums = np.array(my_nums)"
   ]
  },
  {
   "cell_type": "code",
   "execution_count": 4,
   "id": "fa708241",
   "metadata": {},
   "outputs": [
    {
     "data": {
      "text/plain": [
       "array([ 2,  5,  6, 12])"
      ]
     },
     "execution_count": 4,
     "metadata": {},
     "output_type": "execute_result"
    }
   ],
   "source": [
    "nums"
   ]
  },
  {
   "cell_type": "code",
   "execution_count": 5,
   "id": "b4152e64",
   "metadata": {},
   "outputs": [
    {
     "name": "stdout",
     "output_type": "stream",
     "text": [
      "<class 'numpy.ndarray'>\n"
     ]
    }
   ],
   "source": [
    "print(type(nums)) # n-dim array"
   ]
  },
  {
   "cell_type": "code",
   "execution_count": 6,
   "id": "a8320af4",
   "metadata": {},
   "outputs": [
    {
     "data": {
      "text/plain": [
       "numpy.int32"
      ]
     },
     "execution_count": 6,
     "metadata": {},
     "output_type": "execute_result"
    }
   ],
   "source": [
    "type(nums[0]) # checking type in individual list"
   ]
  },
  {
   "cell_type": "code",
   "execution_count": 7,
   "id": "cf818ac2",
   "metadata": {},
   "outputs": [
    {
     "data": {
      "text/plain": [
       "dtype('int32')"
      ]
     },
     "execution_count": 7,
     "metadata": {},
     "output_type": "execute_result"
    }
   ],
   "source": [
    "nums.dtype # checking type using dtype "
   ]
  },
  {
   "cell_type": "code",
   "execution_count": 8,
   "id": "3d00056b",
   "metadata": {},
   "outputs": [],
   "source": [
    "my_nums2 = [2, 5, 6, 12, 'a']"
   ]
  },
  {
   "cell_type": "code",
   "execution_count": 9,
   "id": "8a9d0f0e",
   "metadata": {},
   "outputs": [],
   "source": [
    "second = np.array(my_nums2)"
   ]
  },
  {
   "cell_type": "code",
   "execution_count": 10,
   "id": "c23a7664",
   "metadata": {},
   "outputs": [
    {
     "data": {
      "text/plain": [
       "array(['2', '5', '6', '12', 'a'], dtype='<U11')"
      ]
     },
     "execution_count": 10,
     "metadata": {},
     "output_type": "execute_result"
    }
   ],
   "source": [
    "second # all strings because there is an string and all are objects"
   ]
  },
  {
   "cell_type": "code",
   "execution_count": 11,
   "id": "0c0e47ed",
   "metadata": {},
   "outputs": [
    {
     "data": {
      "text/plain": [
       "numpy.ndarray"
      ]
     },
     "execution_count": 11,
     "metadata": {},
     "output_type": "execute_result"
    }
   ],
   "source": [
    "type(second)"
   ]
  },
  {
   "cell_type": "code",
   "execution_count": 12,
   "id": "b0c68937",
   "metadata": {},
   "outputs": [
    {
     "data": {
      "text/plain": [
       "dtype('<U11')"
      ]
     },
     "execution_count": 12,
     "metadata": {},
     "output_type": "execute_result"
    }
   ],
   "source": [
    "second.dtype"
   ]
  },
  {
   "cell_type": "code",
   "execution_count": 13,
   "id": "ac1b6943",
   "metadata": {},
   "outputs": [
    {
     "data": {
      "text/plain": [
       "array([ 2,  5,  6, 12])"
      ]
     },
     "execution_count": 13,
     "metadata": {},
     "output_type": "execute_result"
    }
   ],
   "source": [
    "nums"
   ]
  },
  {
   "cell_type": "code",
   "execution_count": 14,
   "id": "5b1350ba",
   "metadata": {},
   "outputs": [],
   "source": [
    "# mean, median, min, max, sum"
   ]
  },
  {
   "cell_type": "code",
   "execution_count": 15,
   "id": "f9bf0762",
   "metadata": {},
   "outputs": [],
   "source": [
    "x2 = np.random.randint(10, size = (3,4))"
   ]
  },
  {
   "cell_type": "code",
   "execution_count": 16,
   "id": "e9d0177e",
   "metadata": {},
   "outputs": [
    {
     "data": {
      "text/plain": [
       "array([[6, 6, 9, 9],\n",
       "       [6, 7, 4, 4],\n",
       "       [4, 5, 5, 9]])"
      ]
     },
     "execution_count": 16,
     "metadata": {},
     "output_type": "execute_result"
    }
   ],
   "source": [
    "x2"
   ]
  },
  {
   "cell_type": "code",
   "execution_count": 21,
   "id": "1dbb3afc",
   "metadata": {},
   "outputs": [
    {
     "data": {
      "text/plain": [
       "array([16, 18, 18, 22])"
      ]
     },
     "execution_count": 21,
     "metadata": {},
     "output_type": "execute_result"
    }
   ],
   "source": [
    "# sum the columns of x2: axis = 0 => columns\n",
    "x2.sum(axis = 0)"
   ]
  },
  {
   "cell_type": "code",
   "execution_count": 22,
   "id": "0feaabb8",
   "metadata": {},
   "outputs": [
    {
     "data": {
      "text/plain": [
       "array([30, 21, 23])"
      ]
     },
     "execution_count": 22,
     "metadata": {},
     "output_type": "execute_result"
    }
   ],
   "source": [
    "# sum of rows of x2: axis = 1 => rows\n",
    "x2.sum(axis = 1)"
   ]
  },
  {
   "cell_type": "code",
   "execution_count": 23,
   "id": "d5f2c88c",
   "metadata": {},
   "outputs": [
    {
     "data": {
      "text/plain": [
       "array([[6, 6, 4],\n",
       "       [6, 7, 5],\n",
       "       [9, 4, 5],\n",
       "       [9, 4, 9]])"
      ]
     },
     "execution_count": 23,
     "metadata": {},
     "output_type": "execute_result"
    }
   ],
   "source": [
    "x2.transpose() # switch rows and columns"
   ]
  },
  {
   "cell_type": "code",
   "execution_count": 24,
   "id": "15f89194",
   "metadata": {},
   "outputs": [
    {
     "data": {
      "text/plain": [
       "array([16, 18, 18, 22])"
      ]
     },
     "execution_count": 24,
     "metadata": {},
     "output_type": "execute_result"
    }
   ],
   "source": [
    "x2.transpose().sum(axis = 1) # transpose x2 and the sum of rows of transposed x2"
   ]
  },
  {
   "cell_type": "code",
   "execution_count": 25,
   "id": "1c25473b",
   "metadata": {},
   "outputs": [
    {
     "data": {
      "text/plain": [
       "array([30, 21, 23])"
      ]
     },
     "execution_count": 25,
     "metadata": {},
     "output_type": "execute_result"
    }
   ],
   "source": [
    "x2.transpose().sum(axis = 0) # transpose x2 and the sum of columns of transposed x2"
   ]
  },
  {
   "cell_type": "code",
   "execution_count": 26,
   "id": "d2f4e74b",
   "metadata": {},
   "outputs": [
    {
     "data": {
      "text/plain": [
       "16"
      ]
     },
     "execution_count": 26,
     "metadata": {},
     "output_type": "execute_result"
    }
   ],
   "source": [
    "x2.transpose().sum(axis = 1).min() #transpose, sum and getting the min of the sum "
   ]
  },
  {
   "cell_type": "code",
   "execution_count": 27,
   "id": "442f6e0e",
   "metadata": {},
   "outputs": [
    {
     "data": {
      "text/plain": [
       "array([ 2,  5,  6, 12])"
      ]
     },
     "execution_count": 27,
     "metadata": {},
     "output_type": "execute_result"
    }
   ],
   "source": [
    "nums"
   ]
  },
  {
   "cell_type": "code",
   "execution_count": 38,
   "id": "3b94a50d",
   "metadata": {},
   "outputs": [
    {
     "data": {
      "text/plain": [
       "array([ True, False, False, False])"
      ]
     },
     "execution_count": 38,
     "metadata": {},
     "output_type": "execute_result"
    }
   ],
   "source": [
    "nums < 4"
   ]
  },
  {
   "cell_type": "code",
   "execution_count": 40,
   "id": "12537552",
   "metadata": {},
   "outputs": [
    {
     "data": {
      "text/plain": [
       "array([2])"
      ]
     },
     "execution_count": 40,
     "metadata": {},
     "output_type": "execute_result"
    }
   ],
   "source": [
    "nums[(nums < 4) & (nums < 6)] # conditional statements and"
   ]
  },
  {
   "cell_type": "code",
   "execution_count": 41,
   "id": "6f13e32c",
   "metadata": {},
   "outputs": [
    {
     "data": {
      "text/plain": [
       "array([ 2, 12])"
      ]
     },
     "execution_count": 41,
     "metadata": {},
     "output_type": "execute_result"
    }
   ],
   "source": [
    "nums[(nums < 4) | (nums > 6)] # conditional statements or"
   ]
  },
  {
   "cell_type": "code",
   "execution_count": 29,
   "id": "b799090d",
   "metadata": {},
   "outputs": [
    {
     "data": {
      "text/plain": [
       "array([2])"
      ]
     },
     "execution_count": 29,
     "metadata": {},
     "output_type": "execute_result"
    }
   ],
   "source": [
    "nums[nums < 4] # only returns the true value"
   ]
  },
  {
   "cell_type": "code",
   "execution_count": 30,
   "id": "00bd855d",
   "metadata": {},
   "outputs": [
    {
     "data": {
      "text/plain": [
       "array([5, 6])"
      ]
     },
     "execution_count": 30,
     "metadata": {},
     "output_type": "execute_result"
    }
   ],
   "source": [
    "nums[[1,2]] # returns which elements of the numpy array"
   ]
  },
  {
   "cell_type": "code",
   "execution_count": 32,
   "id": "aca88847",
   "metadata": {},
   "outputs": [
    {
     "data": {
      "text/plain": [
       "array([ 2, 12])"
      ]
     },
     "execution_count": 32,
     "metadata": {},
     "output_type": "execute_result"
    }
   ],
   "source": [
    "ind = [0,3]\n",
    "nums[ind] # subset the indexs in ind for nums. Basically pulling out the indexs for nums"
   ]
  },
  {
   "cell_type": "code",
   "execution_count": 34,
   "id": "b412380f",
   "metadata": {},
   "outputs": [
    {
     "data": {
      "text/plain": [
       "False"
      ]
     },
     "execution_count": 34,
     "metadata": {},
     "output_type": "execute_result"
    }
   ],
   "source": [
    "np.any(nums > 100) # find any (at least one) that is greater than 100"
   ]
  },
  {
   "cell_type": "code",
   "execution_count": 35,
   "id": "39e4f4e2",
   "metadata": {},
   "outputs": [
    {
     "data": {
      "text/plain": [
       "True"
      ]
     },
     "execution_count": 35,
     "metadata": {},
     "output_type": "execute_result"
    }
   ],
   "source": [
    "np.any(nums < 100) # find any (at least one) that is less than 100"
   ]
  },
  {
   "cell_type": "code",
   "execution_count": 36,
   "id": "5750a10e",
   "metadata": {},
   "outputs": [
    {
     "data": {
      "text/plain": [
       "False"
      ]
     },
     "execution_count": 36,
     "metadata": {},
     "output_type": "execute_result"
    }
   ],
   "source": [
    "np.all(nums < 12) # find if ALL (everything in list) that is less than 12"
   ]
  },
  {
   "cell_type": "code",
   "execution_count": 37,
   "id": "02730ba9",
   "metadata": {},
   "outputs": [
    {
     "data": {
      "text/plain": [
       "4"
      ]
     },
     "execution_count": 37,
     "metadata": {},
     "output_type": "execute_result"
    }
   ],
   "source": [
    "np.count_nonzero(nums)"
   ]
  },
  {
   "cell_type": "code",
   "execution_count": 42,
   "id": "c14ab8ed",
   "metadata": {},
   "outputs": [],
   "source": [
    "x2 = np.random.randint(10, size = 10)"
   ]
  },
  {
   "cell_type": "code",
   "execution_count": 43,
   "id": "e93b7e39",
   "metadata": {},
   "outputs": [
    {
     "data": {
      "text/plain": [
       "array([4, 2, 2, 9, 7, 5, 0, 5, 8, 6])"
      ]
     },
     "execution_count": 43,
     "metadata": {},
     "output_type": "execute_result"
    }
   ],
   "source": [
    "x2"
   ]
  },
  {
   "cell_type": "code",
   "execution_count": 66,
   "id": "cf382b45",
   "metadata": {},
   "outputs": [
    {
     "data": {
      "text/plain": [
       "array([0, 2, 2, 4, 5, 5, 6, 7, 8, 9])"
      ]
     },
     "execution_count": 66,
     "metadata": {},
     "output_type": "execute_result"
    }
   ],
   "source": [
    "x2.sort() # sort an array in place, changing the array\n",
    "x2"
   ]
  },
  {
   "cell_type": "code",
   "execution_count": 49,
   "id": "9fc788fd",
   "metadata": {},
   "outputs": [
    {
     "data": {
      "text/plain": [
       "array([9, 8, 7, 6, 5, 5, 4, 2, 2, 0])"
      ]
     },
     "execution_count": 49,
     "metadata": {},
     "output_type": "execute_result"
    }
   ],
   "source": [
    "x2[::-1].sort()\n",
    "x2"
   ]
  },
  {
   "cell_type": "code",
   "execution_count": 60,
   "id": "c9e75f1f",
   "metadata": {},
   "outputs": [],
   "source": [
    "sorted_x2 = np.sort(x2) # sorted x2, using np.sort() does not change the array, returns a copy of a sorted array"
   ]
  },
  {
   "cell_type": "code",
   "execution_count": 65,
   "id": "3c330f26",
   "metadata": {},
   "outputs": [
    {
     "data": {
      "text/plain": [
       "array([-88,   2,   2,   4,   5,   5,   6,   7,   8,   9])"
      ]
     },
     "execution_count": 65,
     "metadata": {},
     "output_type": "execute_result"
    }
   ],
   "source": [
    "sorted_x2 # a new array, not a view"
   ]
  },
  {
   "cell_type": "code",
   "execution_count": 67,
   "id": "7d3a662a",
   "metadata": {},
   "outputs": [
    {
     "data": {
      "text/plain": [
       "array([0, 1, 2, 3, 4, 5, 6, 7, 8, 9], dtype=int64)"
      ]
     },
     "execution_count": 67,
     "metadata": {},
     "output_type": "execute_result"
    }
   ],
   "source": [
    "#argsort\n",
    "np.argsort(x2) # returns the indexs of the array"
   ]
  },
  {
   "cell_type": "code",
   "execution_count": 74,
   "id": "15bef469",
   "metadata": {},
   "outputs": [
    {
     "data": {
      "text/plain": [
       "array([12, 15,  3,  9,  4, 18,  2, 19,  4,  5])"
      ]
     },
     "execution_count": 74,
     "metadata": {},
     "output_type": "execute_result"
    }
   ],
   "source": [
    "x3 = np.random.randint(20, size = 10)\n",
    "x3"
   ]
  },
  {
   "cell_type": "code",
   "execution_count": 73,
   "id": "ad58339c",
   "metadata": {},
   "outputs": [
    {
     "data": {
      "text/plain": [
       "array([6, 0, 5, 4, 9, 7, 1, 2, 3, 8], dtype=int64)"
      ]
     },
     "execution_count": 73,
     "metadata": {},
     "output_type": "execute_result"
    }
   ],
   "source": [
    "np.argsort(x3)"
   ]
  },
  {
   "cell_type": "code",
   "execution_count": 75,
   "id": "a147973c",
   "metadata": {},
   "outputs": [],
   "source": [
    "indexes_for_sorting = np.argsort(x3) # saving the indexs of x3"
   ]
  },
  {
   "cell_type": "code",
   "execution_count": 76,
   "id": "08ff8faa",
   "metadata": {},
   "outputs": [
    {
     "data": {
      "text/plain": [
       "array([6, 2, 4, 8, 9, 3, 0, 1, 5, 7], dtype=int64)"
      ]
     },
     "execution_count": 76,
     "metadata": {},
     "output_type": "execute_result"
    }
   ],
   "source": [
    "indexes_for_sorting"
   ]
  },
  {
   "cell_type": "code",
   "execution_count": null,
   "id": "8b78aec5",
   "metadata": {},
   "outputs": [],
   "source": []
  }
 ],
 "metadata": {
  "kernelspec": {
   "display_name": "Python 3 (ipykernel)",
   "language": "python",
   "name": "python3"
  },
  "language_info": {
   "codemirror_mode": {
    "name": "ipython",
    "version": 3
   },
   "file_extension": ".py",
   "mimetype": "text/x-python",
   "name": "python",
   "nbconvert_exporter": "python",
   "pygments_lexer": "ipython3",
   "version": "3.9.7"
  }
 },
 "nbformat": 4,
 "nbformat_minor": 5
}
