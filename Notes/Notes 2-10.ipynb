{
 "cells": [
  {
   "cell_type": "code",
   "execution_count": 1,
   "id": "67ae2b88",
   "metadata": {},
   "outputs": [],
   "source": [
    "seq = ['a', 'b', 'e', 'y']"
   ]
  },
  {
   "cell_type": "code",
   "execution_count": 2,
   "id": "f335e185",
   "metadata": {},
   "outputs": [
    {
     "data": {
      "text/plain": [
       "['a', 'b', 'e', 'y']"
      ]
     },
     "execution_count": 2,
     "metadata": {},
     "output_type": "execute_result"
    }
   ],
   "source": [
    "seq"
   ]
  },
  {
   "cell_type": "code",
   "execution_count": 3,
   "id": "5c760709",
   "metadata": {},
   "outputs": [
    {
     "name": "stdout",
     "output_type": "stream",
     "text": [
      "a\n",
      "b\n",
      "e\n",
      "y\n"
     ]
    }
   ],
   "source": [
    "# to print out all elements in the list seq\n",
    "for item in seq:\n",
    "    print(item)"
   ]
  },
  {
   "cell_type": "code",
   "execution_count": 4,
   "id": "3c09a134",
   "metadata": {},
   "outputs": [],
   "source": [
    "courses = [('CSC245',4),(\"CSC115\",3)] # [(a,b),(a,b)]"
   ]
  },
  {
   "cell_type": "code",
   "execution_count": 5,
   "id": "50ab8269",
   "metadata": {},
   "outputs": [
    {
     "name": "stdout",
     "output_type": "stream",
     "text": [
      "CSC245 has the following credits 4\n",
      "CSC115 has the following credits 3\n"
     ]
    }
   ],
   "source": [
    "for a, b in courses: # unpacking tuple\n",
    "    print(a + ' has the following credits ' + str(b))"
   ]
  },
  {
   "cell_type": "markdown",
   "id": "dc015407",
   "metadata": {},
   "source": [
    "Advantage of NumPy has a type: ndarray (n-dimensional array) which stored data efficiently"
   ]
  },
  {
   "cell_type": "code",
   "execution_count": 6,
   "id": "6c99f852",
   "metadata": {},
   "outputs": [],
   "source": [
    "import numpy as np"
   ]
  },
  {
   "cell_type": "code",
   "execution_count": 7,
   "id": "3ee03a86",
   "metadata": {},
   "outputs": [],
   "source": [
    "# This will give me documentation\n",
    "np?"
   ]
  },
  {
   "cell_type": "code",
   "execution_count": 8,
   "id": "2793f7e1",
   "metadata": {},
   "outputs": [],
   "source": [
    "np.random.seed(0)"
   ]
  },
  {
   "cell_type": "code",
   "execution_count": 9,
   "id": "3071f561",
   "metadata": {},
   "outputs": [],
   "source": [
    "# If I don't want to use np.random each time. Then import the below\n",
    "from numpy import random"
   ]
  },
  {
   "cell_type": "code",
   "execution_count": 10,
   "id": "eebdf6c1",
   "metadata": {},
   "outputs": [],
   "source": [
    "# random.randint(low, high=none, size=, datatype=) // random numbers of int\n",
    "# press shift + tab will give documentation\n",
    "x1 = random.randint(10, size=6)"
   ]
  },
  {
   "cell_type": "code",
   "execution_count": 11,
   "id": "1a7d6cfc",
   "metadata": {},
   "outputs": [
    {
     "data": {
      "text/plain": [
       "1"
      ]
     },
     "execution_count": 11,
     "metadata": {},
     "output_type": "execute_result"
    }
   ],
   "source": [
    "# n dimension\n",
    "x1.ndim"
   ]
  },
  {
   "cell_type": "code",
   "execution_count": 12,
   "id": "505a8190",
   "metadata": {},
   "outputs": [
    {
     "data": {
      "text/plain": [
       "(6,)"
      ]
     },
     "execution_count": 12,
     "metadata": {},
     "output_type": "execute_result"
    }
   ],
   "source": [
    "x1.shape"
   ]
  },
  {
   "cell_type": "code",
   "execution_count": 13,
   "id": "2762792a",
   "metadata": {},
   "outputs": [
    {
     "data": {
      "text/plain": [
       "6"
      ]
     },
     "execution_count": 13,
     "metadata": {},
     "output_type": "execute_result"
    }
   ],
   "source": [
    "x1.size"
   ]
  },
  {
   "cell_type": "code",
   "execution_count": 14,
   "id": "3840c948",
   "metadata": {},
   "outputs": [
    {
     "data": {
      "text/plain": [
       "6"
      ]
     },
     "execution_count": 14,
     "metadata": {},
     "output_type": "execute_result"
    }
   ],
   "source": [
    "len(x1)"
   ]
  },
  {
   "cell_type": "code",
   "execution_count": 15,
   "id": "92096fa9",
   "metadata": {},
   "outputs": [
    {
     "data": {
      "text/plain": [
       "numpy.ndarray"
      ]
     },
     "execution_count": 15,
     "metadata": {},
     "output_type": "execute_result"
    }
   ],
   "source": [
    "type(x1)"
   ]
  },
  {
   "cell_type": "code",
   "execution_count": 16,
   "id": "11578cf8",
   "metadata": {},
   "outputs": [],
   "source": [
    "# 2d array\n",
    "x2 = random.randint(10, size=(3,4))"
   ]
  },
  {
   "cell_type": "code",
   "execution_count": 17,
   "id": "bf81402f",
   "metadata": {},
   "outputs": [
    {
     "data": {
      "text/plain": [
       "array([[3, 5, 2, 4],\n",
       "       [7, 6, 8, 8],\n",
       "       [1, 6, 7, 7]])"
      ]
     },
     "execution_count": 17,
     "metadata": {},
     "output_type": "execute_result"
    }
   ],
   "source": [
    "x2"
   ]
  },
  {
   "cell_type": "code",
   "execution_count": 18,
   "id": "fdfaa5e7",
   "metadata": {},
   "outputs": [
    {
     "data": {
      "text/plain": [
       "5"
      ]
     },
     "execution_count": 18,
     "metadata": {},
     "output_type": "execute_result"
    }
   ],
   "source": [
    "# x2[0][1]\n",
    "x2[0,1]"
   ]
  },
  {
   "cell_type": "code",
   "execution_count": 19,
   "id": "d094f2da",
   "metadata": {},
   "outputs": [
    {
     "data": {
      "text/plain": [
       "numpy.ndarray"
      ]
     },
     "execution_count": 19,
     "metadata": {},
     "output_type": "execute_result"
    }
   ],
   "source": [
    "type(x2[1])"
   ]
  },
  {
   "cell_type": "code",
   "execution_count": 20,
   "id": "00fedece",
   "metadata": {},
   "outputs": [
    {
     "data": {
      "text/plain": [
       "numpy.ndarray"
      ]
     },
     "execution_count": 20,
     "metadata": {},
     "output_type": "execute_result"
    }
   ],
   "source": [
    "type(x2)"
   ]
  },
  {
   "cell_type": "code",
   "execution_count": 21,
   "id": "6bba63f7",
   "metadata": {},
   "outputs": [
    {
     "data": {
      "text/plain": [
       "12"
      ]
     },
     "execution_count": 21,
     "metadata": {},
     "output_type": "execute_result"
    }
   ],
   "source": [
    "x2.size"
   ]
  },
  {
   "cell_type": "code",
   "execution_count": 22,
   "id": "e15ed87f",
   "metadata": {},
   "outputs": [
    {
     "data": {
      "text/plain": [
       "3"
      ]
     },
     "execution_count": 22,
     "metadata": {},
     "output_type": "execute_result"
    }
   ],
   "source": [
    "len(x2)"
   ]
  },
  {
   "cell_type": "code",
   "execution_count": 23,
   "id": "c50613bb",
   "metadata": {},
   "outputs": [
    {
     "data": {
      "text/plain": [
       "2"
      ]
     },
     "execution_count": 23,
     "metadata": {},
     "output_type": "execute_result"
    }
   ],
   "source": [
    "x2.ndim"
   ]
  },
  {
   "cell_type": "code",
   "execution_count": 24,
   "id": "08b92a11",
   "metadata": {},
   "outputs": [
    {
     "data": {
      "text/plain": [
       "dtype('int32')"
      ]
     },
     "execution_count": 24,
     "metadata": {},
     "output_type": "execute_result"
    }
   ],
   "source": [
    "# .dtype : data type\n",
    "x2.dtype"
   ]
  },
  {
   "cell_type": "code",
   "execution_count": 25,
   "id": "a5c6b7e7",
   "metadata": {},
   "outputs": [
    {
     "data": {
      "text/plain": [
       "array([5, 0, 3, 3, 7, 9])"
      ]
     },
     "execution_count": 25,
     "metadata": {},
     "output_type": "execute_result"
    }
   ],
   "source": [
    "# slicing\n",
    "x1"
   ]
  },
  {
   "cell_type": "code",
   "execution_count": 26,
   "id": "52ed3ddc",
   "metadata": {},
   "outputs": [
    {
     "data": {
      "text/plain": [
       "array([0, 3, 3, 7, 9])"
      ]
     },
     "execution_count": 26,
     "metadata": {},
     "output_type": "execute_result"
    }
   ],
   "source": [
    "x1[1:]"
   ]
  },
  {
   "cell_type": "code",
   "execution_count": 27,
   "id": "eb9d447b",
   "metadata": {},
   "outputs": [
    {
     "data": {
      "text/plain": [
       "array([[3, 5, 2, 4],\n",
       "       [7, 6, 8, 8],\n",
       "       [1, 6, 7, 7]])"
      ]
     },
     "execution_count": 27,
     "metadata": {},
     "output_type": "execute_result"
    }
   ],
   "source": [
    "x2"
   ]
  },
  {
   "cell_type": "code",
   "execution_count": 28,
   "id": "85d0625c",
   "metadata": {},
   "outputs": [
    {
     "data": {
      "text/plain": [
       "array([[8, 8],\n",
       "       [7, 7]])"
      ]
     },
     "execution_count": 28,
     "metadata": {},
     "output_type": "execute_result"
    }
   ],
   "source": [
    "x2[1:,2:]"
   ]
  },
  {
   "cell_type": "code",
   "execution_count": 29,
   "id": "045668f0",
   "metadata": {},
   "outputs": [],
   "source": [
    "x3 = random.randint(10, size=(5,7))"
   ]
  },
  {
   "cell_type": "code",
   "execution_count": 30,
   "id": "697ece4c",
   "metadata": {},
   "outputs": [
    {
     "data": {
      "text/plain": [
       "array([[8, 1, 5, 9, 8, 9, 4],\n",
       "       [3, 0, 3, 5, 0, 2, 3],\n",
       "       [8, 1, 3, 3, 3, 7, 0],\n",
       "       [1, 9, 9, 0, 4, 7, 3],\n",
       "       [2, 7, 2, 0, 0, 4, 5]])"
      ]
     },
     "execution_count": 30,
     "metadata": {},
     "output_type": "execute_result"
    }
   ],
   "source": [
    "x3"
   ]
  },
  {
   "cell_type": "code",
   "execution_count": 31,
   "id": "baf353d3",
   "metadata": {},
   "outputs": [],
   "source": [
    "# slicing as per example during class\n",
    "# slicing gives a view, not its own copy\n",
    "slice_of_x3 = x3[1:3,2:5]"
   ]
  },
  {
   "cell_type": "code",
   "execution_count": 32,
   "id": "9ee96666",
   "metadata": {},
   "outputs": [
    {
     "data": {
      "text/plain": [
       "array([[3, 5, 0],\n",
       "       [3, 3, 3]])"
      ]
     },
     "execution_count": 32,
     "metadata": {},
     "output_type": "execute_result"
    }
   ],
   "source": [
    "slice_of_x3"
   ]
  },
  {
   "cell_type": "code",
   "execution_count": 33,
   "id": "7adfc46b",
   "metadata": {},
   "outputs": [],
   "source": [
    "slice_of_x3[0,1] = -100"
   ]
  },
  {
   "cell_type": "code",
   "execution_count": 34,
   "id": "c6b176a2",
   "metadata": {},
   "outputs": [
    {
     "data": {
      "text/plain": [
       "array([[   3, -100,    0],\n",
       "       [   3,    3,    3]])"
      ]
     },
     "execution_count": 34,
     "metadata": {},
     "output_type": "execute_result"
    }
   ],
   "source": [
    "slice_of_x3"
   ]
  },
  {
   "cell_type": "code",
   "execution_count": 35,
   "id": "ee44557f",
   "metadata": {},
   "outputs": [
    {
     "data": {
      "text/plain": [
       "array([[   8,    1,    5,    9,    8,    9,    4],\n",
       "       [   3,    0,    3, -100,    0,    2,    3],\n",
       "       [   8,    1,    3,    3,    3,    7,    0],\n",
       "       [   1,    9,    9,    0,    4,    7,    3],\n",
       "       [   2,    7,    2,    0,    0,    4,    5]])"
      ]
     },
     "execution_count": 35,
     "metadata": {},
     "output_type": "execute_result"
    }
   ],
   "source": [
    "x3"
   ]
  },
  {
   "cell_type": "code",
   "execution_count": 36,
   "id": "d6afd4f6",
   "metadata": {},
   "outputs": [],
   "source": [
    "piece_of_x3 = x3[1:3,2:5].copy()"
   ]
  },
  {
   "cell_type": "code",
   "execution_count": 37,
   "id": "33cab618",
   "metadata": {},
   "outputs": [
    {
     "data": {
      "text/plain": [
       "array([[   3, -100,    0],\n",
       "       [   3,    3,    3]])"
      ]
     },
     "execution_count": 37,
     "metadata": {},
     "output_type": "execute_result"
    }
   ],
   "source": [
    "piece_of_x3"
   ]
  },
  {
   "cell_type": "code",
   "execution_count": 38,
   "id": "56bacbd6",
   "metadata": {},
   "outputs": [],
   "source": [
    "piece_of_x3[0,2] = -20"
   ]
  },
  {
   "cell_type": "code",
   "execution_count": 39,
   "id": "c837451c",
   "metadata": {},
   "outputs": [
    {
     "data": {
      "text/plain": [
       "array([[   3, -100,  -20],\n",
       "       [   3,    3,    3]])"
      ]
     },
     "execution_count": 39,
     "metadata": {},
     "output_type": "execute_result"
    }
   ],
   "source": [
    "piece_of_x3"
   ]
  },
  {
   "cell_type": "code",
   "execution_count": 40,
   "id": "ddb3c750",
   "metadata": {},
   "outputs": [
    {
     "data": {
      "text/plain": [
       "array([10, 11, 13, 25, 22, 20,  9, 14, 15,  6,  6, 12, 14,  8, 11])"
      ]
     },
     "execution_count": 40,
     "metadata": {},
     "output_type": "execute_result"
    }
   ],
   "source": [
    "# create a 1-D numpy array with 15 elements\n",
    "#using randint range from 5 to 25 (including 25)\n",
    "x5 = random.randint(5,26, size=15)\n",
    "x5"
   ]
  },
  {
   "cell_type": "code",
   "execution_count": 41,
   "id": "cb875ae3",
   "metadata": {},
   "outputs": [],
   "source": [
    "zeros = np.zeros(16)"
   ]
  },
  {
   "cell_type": "code",
   "execution_count": 42,
   "id": "a115742a",
   "metadata": {},
   "outputs": [],
   "source": [
    "ones = np.ones(5)"
   ]
  },
  {
   "cell_type": "code",
   "execution_count": 43,
   "id": "10252759",
   "metadata": {},
   "outputs": [
    {
     "data": {
      "text/plain": [
       "array([0., 0., 0., 0., 0., 0., 0., 0., 0., 0., 0., 0., 0., 0., 0., 0.])"
      ]
     },
     "execution_count": 43,
     "metadata": {},
     "output_type": "execute_result"
    }
   ],
   "source": [
    "zeros"
   ]
  },
  {
   "cell_type": "code",
   "execution_count": 44,
   "id": "b827a630",
   "metadata": {},
   "outputs": [
    {
     "data": {
      "text/plain": [
       "array([1., 1., 1., 1., 1.])"
      ]
     },
     "execution_count": 44,
     "metadata": {},
     "output_type": "execute_result"
    }
   ],
   "source": [
    "ones"
   ]
  },
  {
   "cell_type": "code",
   "execution_count": 45,
   "id": "9abae18b",
   "metadata": {},
   "outputs": [
    {
     "data": {
      "text/plain": [
       "dtype('float64')"
      ]
     },
     "execution_count": 45,
     "metadata": {},
     "output_type": "execute_result"
    }
   ],
   "source": [
    "ones.dtype"
   ]
  },
  {
   "cell_type": "code",
   "execution_count": 46,
   "id": "3899e3b6",
   "metadata": {},
   "outputs": [],
   "source": [
    "nums = np.arange(40,50)"
   ]
  },
  {
   "cell_type": "code",
   "execution_count": 47,
   "id": "50133f25",
   "metadata": {},
   "outputs": [
    {
     "data": {
      "text/plain": [
       "array([40, 41, 42, 43, 44, 45, 46, 47, 48, 49])"
      ]
     },
     "execution_count": 47,
     "metadata": {},
     "output_type": "execute_result"
    }
   ],
   "source": [
    "nums"
   ]
  },
  {
   "cell_type": "code",
   "execution_count": 48,
   "id": "e00d4d35",
   "metadata": {},
   "outputs": [
    {
     "data": {
      "text/plain": [
       "array([5, 0, 3, 3, 7, 9])"
      ]
     },
     "execution_count": 48,
     "metadata": {},
     "output_type": "execute_result"
    }
   ],
   "source": [
    "x1"
   ]
  },
  {
   "cell_type": "code",
   "execution_count": 49,
   "id": "152986d7",
   "metadata": {},
   "outputs": [
    {
     "data": {
      "text/plain": [
       "array([40, 41, 42, 43, 44, 45, 46, 47, 48, 49,  5,  0,  3,  3,  7,  9])"
      ]
     },
     "execution_count": 49,
     "metadata": {},
     "output_type": "execute_result"
    }
   ],
   "source": [
    "np.concatenate((nums, x1))"
   ]
  },
  {
   "cell_type": "code",
   "execution_count": 50,
   "id": "cf7bdd8d",
   "metadata": {},
   "outputs": [
    {
     "data": {
      "text/plain": [
       "array([[3, 5, 2, 4],\n",
       "       [7, 6, 8, 8],\n",
       "       [1, 6, 7, 7]])"
      ]
     },
     "execution_count": 50,
     "metadata": {},
     "output_type": "execute_result"
    }
   ],
   "source": [
    "x2"
   ]
  },
  {
   "cell_type": "code",
   "execution_count": 56,
   "id": "e3a25385",
   "metadata": {},
   "outputs": [],
   "source": [
    "x6 = random.randint(10, size=(2,4))"
   ]
  },
  {
   "cell_type": "code",
   "execution_count": 58,
   "id": "b7a87b79",
   "metadata": {},
   "outputs": [
    {
     "data": {
      "text/plain": [
       "array([[5, 9, 4, 4],\n",
       "       [6, 4, 4, 3]])"
      ]
     },
     "execution_count": 58,
     "metadata": {},
     "output_type": "execute_result"
    }
   ],
   "source": [
    "x6"
   ]
  },
  {
   "cell_type": "code",
   "execution_count": 60,
   "id": "80294cb0",
   "metadata": {},
   "outputs": [
    {
     "data": {
      "text/plain": [
       "array([[3, 5, 2, 4],\n",
       "       [7, 6, 8, 8],\n",
       "       [1, 6, 7, 7],\n",
       "       [5, 9, 4, 4],\n",
       "       [6, 4, 4, 3]])"
      ]
     },
     "execution_count": 60,
     "metadata": {},
     "output_type": "execute_result"
    }
   ],
   "source": [
    "np.concatenate((x2,x6), axis=0)"
   ]
  },
  {
   "cell_type": "code",
   "execution_count": 62,
   "id": "ae29e3d6",
   "metadata": {},
   "outputs": [
    {
     "data": {
      "text/plain": [
       "array([[3, 5, 2, 4],\n",
       "       [7, 6, 8, 8],\n",
       "       [1, 6, 7, 7]])"
      ]
     },
     "execution_count": 62,
     "metadata": {},
     "output_type": "execute_result"
    }
   ],
   "source": [
    "x2"
   ]
  },
  {
   "cell_type": "code",
   "execution_count": 63,
   "id": "eaea4916",
   "metadata": {},
   "outputs": [],
   "source": [
    "x6 = random.randint(10,size=(3,8))"
   ]
  },
  {
   "cell_type": "code",
   "execution_count": 64,
   "id": "3de81dc2",
   "metadata": {},
   "outputs": [
    {
     "data": {
      "text/plain": [
       "array([[4, 4, 8, 4, 3, 7, 5, 5],\n",
       "       [0, 1, 5, 9, 3, 0, 5, 0],\n",
       "       [1, 2, 4, 2, 0, 3, 2, 0]])"
      ]
     },
     "execution_count": 64,
     "metadata": {},
     "output_type": "execute_result"
    }
   ],
   "source": [
    "x6"
   ]
  },
  {
   "cell_type": "code",
   "execution_count": 67,
   "id": "6ef626dc",
   "metadata": {},
   "outputs": [
    {
     "data": {
      "text/plain": [
       "array([[3, 5, 2, 4, 4, 4, 8, 4, 3, 7, 5, 5],\n",
       "       [7, 6, 8, 8, 0, 1, 5, 9, 3, 0, 5, 0],\n",
       "       [1, 6, 7, 7, 1, 2, 4, 2, 0, 3, 2, 0]])"
      ]
     },
     "execution_count": 67,
     "metadata": {},
     "output_type": "execute_result"
    }
   ],
   "source": [
    "np.concatenate((x2,x6), axis=1)"
   ]
  },
  {
   "cell_type": "code",
   "execution_count": 68,
   "id": "9a39d73a",
   "metadata": {},
   "outputs": [
    {
     "data": {
      "text/plain": [
       "array([5, 0, 3, 3, 7, 9])"
      ]
     },
     "execution_count": 68,
     "metadata": {},
     "output_type": "execute_result"
    }
   ],
   "source": [
    "x1"
   ]
  },
  {
   "cell_type": "code",
   "execution_count": 69,
   "id": "41f62c97",
   "metadata": {},
   "outputs": [],
   "source": [
    "# universal functions"
   ]
  },
  {
   "cell_type": "code",
   "execution_count": 71,
   "id": "52915e17",
   "metadata": {},
   "outputs": [
    {
     "data": {
      "text/plain": [
       "array([25,  0,  9,  9, 49, 81], dtype=int32)"
      ]
     },
     "execution_count": 71,
     "metadata": {},
     "output_type": "execute_result"
    }
   ],
   "source": [
    "x1 ** 2"
   ]
  },
  {
   "cell_type": "code",
   "execution_count": 72,
   "id": "4d23b01c",
   "metadata": {},
   "outputs": [
    {
     "data": {
      "text/plain": [
       "27"
      ]
     },
     "execution_count": 72,
     "metadata": {},
     "output_type": "execute_result"
    }
   ],
   "source": [
    "#summary statistics\n",
    "# sum all elements in x1 array\n",
    "x1.sum() "
   ]
  },
  {
   "cell_type": "code",
   "execution_count": 73,
   "id": "4a85790f",
   "metadata": {},
   "outputs": [
    {
     "data": {
      "text/plain": [
       "4.5"
      ]
     },
     "execution_count": 73,
     "metadata": {},
     "output_type": "execute_result"
    }
   ],
   "source": [
    "# average of x1\n",
    "x1.mean()"
   ]
  },
  {
   "cell_type": "code",
   "execution_count": 74,
   "id": "d180ab6f",
   "metadata": {},
   "outputs": [
    {
     "data": {
      "text/plain": [
       "0"
      ]
     },
     "execution_count": 74,
     "metadata": {},
     "output_type": "execute_result"
    }
   ],
   "source": [
    "# smallest element in x1\n",
    "x1.min()"
   ]
  },
  {
   "cell_type": "code",
   "execution_count": 75,
   "id": "1218dbc7",
   "metadata": {},
   "outputs": [
    {
     "data": {
      "text/plain": [
       "9"
      ]
     },
     "execution_count": 75,
     "metadata": {},
     "output_type": "execute_result"
    }
   ],
   "source": [
    "# largest element in x1\n",
    "x1.max()"
   ]
  },
  {
   "cell_type": "code",
   "execution_count": 79,
   "id": "50d63dc6",
   "metadata": {},
   "outputs": [
    {
     "data": {
      "text/plain": [
       "4.0"
      ]
     },
     "execution_count": 79,
     "metadata": {},
     "output_type": "execute_result"
    }
   ],
   "source": [
    "np.median(x1)"
   ]
  },
  {
   "cell_type": "code",
   "execution_count": 80,
   "id": "e0387427",
   "metadata": {},
   "outputs": [
    {
     "data": {
      "text/plain": [
       "array([[3, 5, 2, 4],\n",
       "       [7, 6, 8, 8],\n",
       "       [1, 6, 7, 7]])"
      ]
     },
     "execution_count": 80,
     "metadata": {},
     "output_type": "execute_result"
    }
   ],
   "source": [
    "x2"
   ]
  },
  {
   "cell_type": "code",
   "execution_count": 81,
   "id": "6583cfa4",
   "metadata": {},
   "outputs": [
    {
     "data": {
      "text/plain": [
       "5.333333333333333"
      ]
     },
     "execution_count": 81,
     "metadata": {},
     "output_type": "execute_result"
    }
   ],
   "source": [
    "x2.mean()"
   ]
  },
  {
   "cell_type": "code",
   "execution_count": 82,
   "id": "abaca575",
   "metadata": {},
   "outputs": [
    {
     "data": {
      "text/plain": [
       "64"
      ]
     },
     "execution_count": 82,
     "metadata": {},
     "output_type": "execute_result"
    }
   ],
   "source": [
    "x2.sum()"
   ]
  },
  {
   "cell_type": "code",
   "execution_count": 84,
   "id": "f10bd171",
   "metadata": {},
   "outputs": [
    {
     "data": {
      "text/plain": [
       "array([11, 17, 17, 19])"
      ]
     },
     "execution_count": 84,
     "metadata": {},
     "output_type": "execute_result"
    }
   ],
   "source": [
    "# axis is which dimension is collapsed\n",
    "np.sum(x2, axis=0) # sum each columns "
   ]
  },
  {
   "cell_type": "code",
   "execution_count": 85,
   "id": "279576d1",
   "metadata": {},
   "outputs": [
    {
     "data": {
      "text/plain": [
       "array([14, 29, 21])"
      ]
     },
     "execution_count": 85,
     "metadata": {},
     "output_type": "execute_result"
    }
   ],
   "source": [
    "np.sum(x2, axis=1) # sum each rows"
   ]
  },
  {
   "cell_type": "code",
   "execution_count": 86,
   "id": "8b2cc1ca",
   "metadata": {},
   "outputs": [
    {
     "data": {
      "text/plain": [
       "array([[4, 4, 8, 4, 3, 7, 5, 5],\n",
       "       [0, 1, 5, 9, 3, 0, 5, 0],\n",
       "       [1, 2, 4, 2, 0, 3, 2, 0]])"
      ]
     },
     "execution_count": 86,
     "metadata": {},
     "output_type": "execute_result"
    }
   ],
   "source": [
    "x6"
   ]
  },
  {
   "cell_type": "code",
   "execution_count": 88,
   "id": "c7d87e9a",
   "metadata": {},
   "outputs": [
    {
     "data": {
      "text/plain": [
       "0"
      ]
     },
     "execution_count": 88,
     "metadata": {},
     "output_type": "execute_result"
    }
   ],
   "source": [
    "np.min(x6[1])"
   ]
  },
  {
   "cell_type": "code",
   "execution_count": 89,
   "id": "e88b2529",
   "metadata": {},
   "outputs": [
    {
     "data": {
      "text/plain": [
       "4"
      ]
     },
     "execution_count": 89,
     "metadata": {},
     "output_type": "execute_result"
    }
   ],
   "source": [
    "np.max(x6[2])"
   ]
  },
  {
   "cell_type": "code",
   "execution_count": 90,
   "id": "d65f5bcd",
   "metadata": {},
   "outputs": [
    {
     "data": {
      "text/plain": [
       "numpy.ndarray"
      ]
     },
     "execution_count": 90,
     "metadata": {},
     "output_type": "execute_result"
    }
   ],
   "source": [
    "type(x6[1])"
   ]
  },
  {
   "cell_type": "code",
   "execution_count": 93,
   "id": "f88ee60b",
   "metadata": {},
   "outputs": [
    {
     "data": {
      "text/plain": [
       "40"
      ]
     },
     "execution_count": 93,
     "metadata": {},
     "output_type": "execute_result"
    }
   ],
   "source": [
    "# Find the largest row sum\n",
    "np.max(np.sum(x6, axis = 1))"
   ]
  },
  {
   "cell_type": "code",
   "execution_count": 94,
   "id": "e7b52837",
   "metadata": {},
   "outputs": [
    {
     "data": {
      "text/plain": [
       "numpy.int32"
      ]
     },
     "execution_count": 94,
     "metadata": {},
     "output_type": "execute_result"
    }
   ],
   "source": [
    "type(np.sum(x6))"
   ]
  },
  {
   "cell_type": "code",
   "execution_count": 95,
   "id": "fbda1197",
   "metadata": {},
   "outputs": [
    {
     "data": {
      "text/plain": [
       "array([5, 0, 3, 3, 7, 9])"
      ]
     },
     "execution_count": 95,
     "metadata": {},
     "output_type": "execute_result"
    }
   ],
   "source": [
    "x1"
   ]
  },
  {
   "cell_type": "code",
   "execution_count": 96,
   "id": "928a2eb4",
   "metadata": {},
   "outputs": [
    {
     "data": {
      "text/plain": [
       "array([ True, False, False, False,  True,  True])"
      ]
     },
     "execution_count": 96,
     "metadata": {},
     "output_type": "execute_result"
    }
   ],
   "source": [
    "x1 > 3"
   ]
  },
  {
   "cell_type": "code",
   "execution_count": 97,
   "id": "8df53e5c",
   "metadata": {},
   "outputs": [
    {
     "data": {
      "text/plain": [
       "array([ True, False,  True,  True,  True,  True])"
      ]
     },
     "execution_count": 97,
     "metadata": {},
     "output_type": "execute_result"
    }
   ],
   "source": [
    "x1 % 2 == 1 # which are odd"
   ]
  },
  {
   "cell_type": "code",
   "execution_count": 98,
   "id": "273010d4",
   "metadata": {},
   "outputs": [
    {
     "data": {
      "text/plain": [
       "array([5, 3, 3, 7, 9])"
      ]
     },
     "execution_count": 98,
     "metadata": {},
     "output_type": "execute_result"
    }
   ],
   "source": [
    "x1[x1 % 2 == 1] # Gives back the elements are odd"
   ]
  },
  {
   "cell_type": "code",
   "execution_count": 99,
   "id": "64494f2f",
   "metadata": {},
   "outputs": [
    {
     "data": {
      "text/plain": [
       "array([[4, 4, 8, 4, 3, 7, 5, 5],\n",
       "       [0, 1, 5, 9, 3, 0, 5, 0],\n",
       "       [1, 2, 4, 2, 0, 3, 2, 0]])"
      ]
     },
     "execution_count": 99,
     "metadata": {},
     "output_type": "execute_result"
    }
   ],
   "source": [
    "x6"
   ]
  },
  {
   "cell_type": "code",
   "execution_count": 102,
   "id": "f744bb0e",
   "metadata": {},
   "outputs": [
    {
     "data": {
      "text/plain": [
       "array([0, 3, 3, 9])"
      ]
     },
     "execution_count": 102,
     "metadata": {},
     "output_type": "execute_result"
    }
   ],
   "source": [
    "x1[x1 % 3 == 0] # find which one can be divide by 3"
   ]
  },
  {
   "cell_type": "code",
   "execution_count": 103,
   "id": "935fd001",
   "metadata": {},
   "outputs": [
    {
     "data": {
      "text/plain": [
       "4"
      ]
     },
     "execution_count": 103,
     "metadata": {},
     "output_type": "execute_result"
    }
   ],
   "source": [
    "len(x1[x1 % 3 == 0])"
   ]
  },
  {
   "cell_type": "code",
   "execution_count": null,
   "id": "a47d2c7f",
   "metadata": {},
   "outputs": [],
   "source": []
  }
 ],
 "metadata": {
  "kernelspec": {
   "display_name": "Python 3 (ipykernel)",
   "language": "python",
   "name": "python3"
  },
  "language_info": {
   "codemirror_mode": {
    "name": "ipython",
    "version": 3
   },
   "file_extension": ".py",
   "mimetype": "text/x-python",
   "name": "python",
   "nbconvert_exporter": "python",
   "pygments_lexer": "ipython3",
   "version": "3.9.7"
  }
 },
 "nbformat": 4,
 "nbformat_minor": 5
}
