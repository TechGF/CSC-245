{
 "cells": [
  {
   "cell_type": "markdown",
   "id": "fa1ad83a",
   "metadata": {},
   "source": [
    "## Which of the following is TRUE about numpy arrays?\n",
    "\n",
    "- Data in a numpy array must all be of ONE type\n",
    "- Indexing into numpy arrays begins with a 0 (that is, the first index is 0)\n",
    "- Given a numpy array named my_nums, there are methods to get the average, median and standard deviation of the values in my_nums.\n",
    "- The following creates a numpy array of 50 ones. my_ones = np.ones(50)"
   ]
  },
  {
   "cell_type": "markdown",
   "id": "2958ab7f",
   "metadata": {},
   "source": [
    "## Given the numpy array named stats that is below:\n",
    " array([ 1,  4,  7, 10, 13, 16, 19])\n",
    "\n",
    "Which of the following returns the 4  (either as a numpy array with only 4, or as the number 4)?\n",
    "\n",
    "- stats[1]\n",
    "- stats[1:2]\n",
    "- stats[-6]"
   ]
  },
  {
   "cell_type": "markdown",
   "id": "efe7db1d",
   "metadata": {},
   "source": [
    "## Given the numpy array stats:\n",
    " array([[ 1,  5,  9, 13],\n",
    " [17, 21, 25, 29],\n",
    " [33, 37, 41, 45]])\n",
    "\n",
    " Use print and slicing (:) to print out an array that contains the bottom left four values as follows:\n",
    " [[17 21]\n",
    " [33 37]]\n",
    "\n",
    "- print(stats[1:,:2])"
   ]
  },
  {
   "cell_type": "code",
   "execution_count": 2,
   "id": "8312e054",
   "metadata": {},
   "outputs": [
    {
     "name": "stdout",
     "output_type": "stream",
     "text": [
      "[77 61 93 85 31 90  1 85 13 23 19 63  4 35 91 28 14 28  7 23  1 57 50 44\n",
      " 17]\n",
      "41.6\n",
      "31.0\n",
      "[77 61 93 85 31 90 85 63 35 91 28 28 57 50 44]\n"
     ]
    }
   ],
   "source": [
    "# Write the following code (use as many statements as you wish to do this, but  put a comment before each line of code indicating what that line does. \n",
    "import numpy as np\n",
    "# 1. Create a numpy array that has 25 random numbers ranging between 1 and 100.\n",
    "arr = np.random.randint(low=1, high=100, size=25)\n",
    "# 2. Print out the array.\n",
    "print(arr)\n",
    "# 3. Print out the average of all the numbers in the array.\n",
    "print(np.average(arr))\n",
    "# 4. Print out the median of all the numbers in the array.\n",
    "print(np.median(arr))\n",
    "# 5. If the median and average are within 3 of each other, print out all numbers of the array that are greater than 25, otherwise print out all numbers that are > 50\n",
    "avg = np.average(arr)\n",
    "med = np.median(arr)\n",
    "med - avg\n",
    "if (med-avg) <= 3:\n",
    "    print(arr[arr>25])\n",
    "else:\n",
    "    print(arr[arr>50])\n"
   ]
  },
  {
   "attachments": {
    "image.png": {
     "image/png": "[encoded data removed]"
    }
   },
   "cell_type": "markdown",
   "id": "1ef95a2d",
   "metadata": {},
   "source": [
    "## Given the following pandas full dataframe (note this dataframe only has 5 rows), which statement returns the row labeled 5:\n",
    "\n",
    "![image.png](attachment:image.png)\n",
    "\n",
    "- flowers.loc[5]"
   ]
  },
  {
   "cell_type": "markdown",
   "id": "a0145f7e",
   "metadata": {},
   "source": [
    "## Under weekly work for this week there is a csv file:  titanic_clean.csv.\n",
    "\n",
    "It has the following attributes for each passenger on the Titanic.\n",
    "\n",
    "Survived – 0 for no, 1 for yes\n",
    "\n",
    "Pclass – Passenger class  1 or 2 or 3\n",
    "\n",
    "Name   \n",
    "\n",
    "Sex       \n",
    "\n",
    "Age      \n",
    "\n",
    "Siblings/Spouses Aboard (a number)\n",
    "\n",
    "Parents/Children Aboard (a number)\n",
    "\n",
    "Fare (amount paid)\n",
    "\n",
    " 1. Read the file into a pandas dataframe. (Copy your python code and output)\n",
    " \n",
    "titanic = pd.read_csv('titanic_clean.csv')\n",
    " 2. How many rows are in the dataframe? (Copy your python code and output)\n",
    " \n",
    "len(titanic)\n",
    "Output: 887\n",
    " 3. Print out a list of the column names. (Copy your python code and output)\n",
    " \n",
    "print(titanic.columns)\n",
    "Output: Index(['Survived', 'Pclass', 'Name', 'Sex', 'Age', 'Siblings/Spouses Aboard', 'Parents/Children Aboard', 'Fare'], dtype='object')\n",
    " 4.  Print out HOW MANY passengers survived. (Copy code and output) This can be done by masking the dataframe, or you can use the series (column survived) or use a numpy array from the column survived.\n",
    " \n",
    "print(titanic['Survived'].sum())\n",
    "Output: 342"
   ]
  },
  {
   "attachments": {
    "image.png": {
     "image/png": "[encoded data removed]"
    }
   },
   "cell_type": "markdown",
   "id": "cb1e21ae",
   "metadata": {},
   "source": [
    "## Given the following dataframe, states, which statement drops the New York row so that the dataframe states NO LONGER has that row?\n",
    "![image.png](attachment:image.png)\n",
    "\n",
    "- data.drop('New York', inplace = True)"
   ]
  },
  {
   "attachments": {
    "image.png": {
     "image/png": "[encoded data removed]"
    }
   },
   "cell_type": "markdown",
   "id": "4ff4f4d1",
   "metadata": {},
   "source": [
    "## Given the dataframe df\n",
    "![image.png](attachment:image.png)\n",
    "\n",
    "Which of the following adds a row to the bottom of the dataframe with the values 8 2017 23\n",
    "\n",
    "df.loc[4] = [8, 2017, 23]"
   ]
  },
  {
   "cell_type": "code",
   "execution_count": null,
   "id": "22ad689f",
   "metadata": {},
   "outputs": [],
   "source": []
  }
 ],
 "metadata": {
  "kernelspec": {
   "display_name": "Python 3 (ipykernel)",
   "language": "python",
   "name": "python3"
  },
  "language_info": {
   "codemirror_mode": {
    "name": "ipython",
    "version": 3
   },
   "file_extension": ".py",
   "mimetype": "text/x-python",
   "name": "python",
   "nbconvert_exporter": "python",
   "pygments_lexer": "ipython3",
   "version": "3.9.7"
  }
 },
 "nbformat": 4,
 "nbformat_minor": 5
}
