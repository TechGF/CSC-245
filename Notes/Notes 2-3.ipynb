{
 "cells": [
  {
   "cell_type": "code",
   "execution_count": 3,
   "id": "493a7260",
   "metadata": {},
   "outputs": [],
   "source": [
    "# continued Python Introduction"
   ]
  },
  {
   "cell_type": "code",
   "execution_count": 91,
   "id": "220c52b2",
   "metadata": {},
   "outputs": [],
   "source": [
    "# Variables, everything is an objects\n",
    "# Whitespace is important\n",
    "# range func, lists"
   ]
  },
  {
   "cell_type": "code",
   "execution_count": 5,
   "id": "b5710de4",
   "metadata": {},
   "outputs": [],
   "source": [
    "def check_password(passw):\n",
    "    if passw == \"myveryhardpassword\":\n",
    "        print('enter')\n",
    "    elif passw == '':\n",
    "        print(\"please enter a password\")\n",
    "    else:\n",
    "        print('no entry')"
   ]
  },
  {
   "cell_type": "code",
   "execution_count": 6,
   "id": "92aaa346",
   "metadata": {},
   "outputs": [
    {
     "name": "stdout",
     "output_type": "stream",
     "text": [
      "please enter a password\n"
     ]
    }
   ],
   "source": [
    "check_password(\"\")"
   ]
  },
  {
   "cell_type": "code",
   "execution_count": 7,
   "id": "8978258b",
   "metadata": {},
   "outputs": [
    {
     "name": "stdout",
     "output_type": "stream",
     "text": [
      "enter\n"
     ]
    }
   ],
   "source": [
    "check_password('myveryhardpassword')"
   ]
  },
  {
   "cell_type": "code",
   "execution_count": 8,
   "id": "bccfdfb0",
   "metadata": {},
   "outputs": [],
   "source": [
    "def check_password(passw):\n",
    "    if passw == \"myveryhardpassword\":\n",
    "        return True\n",
    "    else:\n",
    "        return False"
   ]
  },
  {
   "cell_type": "code",
   "execution_count": 9,
   "id": "2878139d",
   "metadata": {},
   "outputs": [
    {
     "data": {
      "text/plain": [
       "False"
      ]
     },
     "execution_count": 9,
     "metadata": {},
     "output_type": "execute_result"
    }
   ],
   "source": [
    "check_password('abc123')"
   ]
  },
  {
   "cell_type": "code",
   "execution_count": 10,
   "id": "7f7b2e5e",
   "metadata": {},
   "outputs": [
    {
     "data": {
      "text/plain": [
       "True"
      ]
     },
     "execution_count": 10,
     "metadata": {},
     "output_type": "execute_result"
    }
   ],
   "source": [
    "check_password('myveryhardpassword')"
   ]
  },
  {
   "cell_type": "code",
   "execution_count": 11,
   "id": "99634b13",
   "metadata": {},
   "outputs": [],
   "source": [
    "# indexing and slicing\n",
    "word = 'Welcome'"
   ]
  },
  {
   "cell_type": "code",
   "execution_count": 12,
   "id": "f3984c14",
   "metadata": {},
   "outputs": [
    {
     "data": {
      "text/plain": [
       "'e'"
      ]
     },
     "execution_count": 12,
     "metadata": {},
     "output_type": "execute_result"
    }
   ],
   "source": [
    "word[1]"
   ]
  },
  {
   "cell_type": "code",
   "execution_count": 15,
   "id": "6ebbfd3b",
   "metadata": {},
   "outputs": [
    {
     "data": {
      "text/plain": [
       "'elc'"
      ]
     },
     "execution_count": 15,
     "metadata": {},
     "output_type": "execute_result"
    }
   ],
   "source": [
    "word[1:4] # splicing a string at certain position [start:end]"
   ]
  },
  {
   "cell_type": "code",
   "execution_count": 16,
   "id": "45ce7870",
   "metadata": {},
   "outputs": [
    {
     "data": {
      "text/plain": [
       "'Welc'"
      ]
     },
     "execution_count": 16,
     "metadata": {},
     "output_type": "execute_result"
    }
   ],
   "source": [
    "word[:4] # [:beginning]"
   ]
  },
  {
   "cell_type": "code",
   "execution_count": 17,
   "id": "ff97fc95",
   "metadata": {},
   "outputs": [
    {
     "data": {
      "text/plain": [
       "'ome'"
      ]
     },
     "execution_count": 17,
     "metadata": {},
     "output_type": "execute_result"
    }
   ],
   "source": [
    "word[4:] # [end:]"
   ]
  },
  {
   "cell_type": "code",
   "execution_count": 18,
   "id": "5e5b0ff9",
   "metadata": {},
   "outputs": [
    {
     "data": {
      "text/plain": [
       "'Welcome'"
      ]
     },
     "execution_count": 18,
     "metadata": {},
     "output_type": "execute_result"
    }
   ],
   "source": [
    "word[:]"
   ]
  },
  {
   "cell_type": "code",
   "execution_count": 19,
   "id": "bf6cca74",
   "metadata": {},
   "outputs": [
    {
     "data": {
      "text/plain": [
       "'e'"
      ]
     },
     "execution_count": 19,
     "metadata": {},
     "output_type": "execute_result"
    }
   ],
   "source": [
    "word[-1] # last position of string"
   ]
  },
  {
   "cell_type": "code",
   "execution_count": 20,
   "id": "e1bdf5e6",
   "metadata": {},
   "outputs": [],
   "source": [
    "coffee_prices = [1.29, 2.45, 5.99, 4.87, 7.24] # list (mutable, can change)"
   ]
  },
  {
   "cell_type": "code",
   "execution_count": 21,
   "id": "9f23afe7",
   "metadata": {},
   "outputs": [
    {
     "data": {
      "text/plain": [
       "5.99"
      ]
     },
     "execution_count": 21,
     "metadata": {},
     "output_type": "execute_result"
    }
   ],
   "source": [
    "coffee_prices[2]"
   ]
  },
  {
   "cell_type": "code",
   "execution_count": 22,
   "id": "9fcc7b49",
   "metadata": {},
   "outputs": [
    {
     "data": {
      "text/plain": [
       "[5.99, 4.87, 7.24]"
      ]
     },
     "execution_count": 22,
     "metadata": {},
     "output_type": "execute_result"
    }
   ],
   "source": [
    "coffee_prices[2:] # end of list"
   ]
  },
  {
   "cell_type": "code",
   "execution_count": 23,
   "id": "1ed8727f",
   "metadata": {},
   "outputs": [
    {
     "data": {
      "text/plain": [
       "[1.29, 2.45]"
      ]
     },
     "execution_count": 23,
     "metadata": {},
     "output_type": "execute_result"
    }
   ],
   "source": [
    "coffee_prices[:2] # beginning of list"
   ]
  },
  {
   "cell_type": "code",
   "execution_count": 24,
   "id": "5ddb4e6d",
   "metadata": {},
   "outputs": [
    {
     "data": {
      "text/plain": [
       "7.24"
      ]
     },
     "execution_count": 24,
     "metadata": {},
     "output_type": "execute_result"
    }
   ],
   "source": [
    "coffee_prices[-1] # last element"
   ]
  },
  {
   "cell_type": "code",
   "execution_count": 25,
   "id": "b3fa6884",
   "metadata": {},
   "outputs": [
    {
     "name": "stdout",
     "output_type": "stream",
     "text": [
      "5\n",
      "7\n"
     ]
    }
   ],
   "source": [
    "print(len(coffee_prices))\n",
    "print(len(word))"
   ]
  },
  {
   "cell_type": "code",
   "execution_count": 26,
   "id": "4d2c14ca",
   "metadata": {},
   "outputs": [],
   "source": [
    "coffee_prices.append('hello') # adding something at end of list .append(value)"
   ]
  },
  {
   "cell_type": "code",
   "execution_count": 27,
   "id": "2859948d",
   "metadata": {},
   "outputs": [
    {
     "data": {
      "text/plain": [
       "[1.29, 2.45, 5.99, 4.87, 7.24, 'hello']"
      ]
     },
     "execution_count": 27,
     "metadata": {},
     "output_type": "execute_result"
    }
   ],
   "source": [
    "coffee_prices"
   ]
  },
  {
   "cell_type": "code",
   "execution_count": 28,
   "id": "9ad7e34f",
   "metadata": {},
   "outputs": [],
   "source": [
    "coffee_prices.insert(1,'good-bye') # .insert(position, value)"
   ]
  },
  {
   "cell_type": "code",
   "execution_count": 29,
   "id": "5d739664",
   "metadata": {},
   "outputs": [
    {
     "data": {
      "text/plain": [
       "[1.29, 'good-bye', 2.45, 5.99, 4.87, 7.24, 'hello']"
      ]
     },
     "execution_count": 29,
     "metadata": {},
     "output_type": "execute_result"
    }
   ],
   "source": [
    "coffee_prices"
   ]
  },
  {
   "cell_type": "code",
   "execution_count": 30,
   "id": "db84fea3",
   "metadata": {},
   "outputs": [],
   "source": [
    "weight, height, age = [140,78,25]"
   ]
  },
  {
   "cell_type": "code",
   "execution_count": 32,
   "id": "fa9b8a52",
   "metadata": {},
   "outputs": [
    {
     "data": {
      "text/plain": [
       "1795777204544"
      ]
     },
     "execution_count": 32,
     "metadata": {},
     "output_type": "execute_result"
    }
   ],
   "source": [
    "id(coffee_prices) # object's memory address"
   ]
  },
  {
   "cell_type": "code",
   "execution_count": 33,
   "id": "0c35a53f",
   "metadata": {},
   "outputs": [],
   "source": [
    "coffee_prices[0] = 1.99"
   ]
  },
  {
   "cell_type": "code",
   "execution_count": 34,
   "id": "c21b599c",
   "metadata": {},
   "outputs": [
    {
     "data": {
      "text/plain": [
       "1795777204544"
      ]
     },
     "execution_count": 34,
     "metadata": {},
     "output_type": "execute_result"
    }
   ],
   "source": [
    "id(coffee_prices)"
   ]
  },
  {
   "cell_type": "code",
   "execution_count": 35,
   "id": "2d42c464",
   "metadata": {},
   "outputs": [
    {
     "data": {
      "text/plain": [
       "1795696257360"
      ]
     },
     "execution_count": 35,
     "metadata": {},
     "output_type": "execute_result"
    }
   ],
   "source": [
    "x = 2\n",
    "id(x)"
   ]
  },
  {
   "cell_type": "code",
   "execution_count": 37,
   "id": "040873f7",
   "metadata": {},
   "outputs": [
    {
     "data": {
      "text/plain": [
       "1795696257296"
      ]
     },
     "execution_count": 37,
     "metadata": {},
     "output_type": "execute_result"
    }
   ],
   "source": [
    "x = 0\n",
    "id(x) # python gives you a new memory address when replacing a variable"
   ]
  },
  {
   "cell_type": "code",
   "execution_count": 38,
   "id": "7e58a6a1",
   "metadata": {},
   "outputs": [],
   "source": [
    "weight, height, age = (140,78,25) # tuple(immutable, cannot change), *using (value, value1, value2) makes it a tuple"
   ]
  },
  {
   "cell_type": "code",
   "execution_count": 39,
   "id": "c2cea638",
   "metadata": {},
   "outputs": [],
   "source": [
    "my_data = (10,78,25)"
   ]
  },
  {
   "cell_type": "code",
   "execution_count": 40,
   "id": "819f380d",
   "metadata": {},
   "outputs": [
    {
     "data": {
      "text/plain": [
       "(10, 78, 25)"
      ]
     },
     "execution_count": 40,
     "metadata": {},
     "output_type": "execute_result"
    }
   ],
   "source": [
    "my_data"
   ]
  },
  {
   "cell_type": "code",
   "execution_count": 41,
   "id": "3944b44b",
   "metadata": {},
   "outputs": [
    {
     "ename": "TypeError",
     "evalue": "'tuple' object does not support item assignment",
     "output_type": "error",
     "traceback": [
      "\u001b[1;31m---------------------------------------------------------------------------\u001b[0m",
      "\u001b[1;31mTypeError\u001b[0m                                 Traceback (most recent call last)",
      "\u001b[1;32m~\\AppData\\Local\\Temp/ipykernel_1804/2463712924.py\u001b[0m in \u001b[0;36m<module>\u001b[1;34m\u001b[0m\n\u001b[1;32m----> 1\u001b[1;33m \u001b[0mmy_data\u001b[0m\u001b[1;33m[\u001b[0m\u001b[1;36m0\u001b[0m\u001b[1;33m]\u001b[0m \u001b[1;33m=\u001b[0m \u001b[1;36m135\u001b[0m\u001b[1;33m\u001b[0m\u001b[1;33m\u001b[0m\u001b[0m\n\u001b[0m",
      "\u001b[1;31mTypeError\u001b[0m: 'tuple' object does not support item assignment"
     ]
    }
   ],
   "source": [
    "my_data[0] = 135"
   ]
  },
  {
   "cell_type": "code",
   "execution_count": 53,
   "id": "6f0e1603",
   "metadata": {},
   "outputs": [
    {
     "data": {
      "text/plain": [
       "'Welcome'"
      ]
     },
     "execution_count": 53,
     "metadata": {},
     "output_type": "execute_result"
    }
   ],
   "source": [
    "word = 'Welcome'\n",
    "word"
   ]
  },
  {
   "cell_type": "code",
   "execution_count": 46,
   "id": "d80ffff3",
   "metadata": {},
   "outputs": [
    {
     "ename": "TypeError",
     "evalue": "'str' object does not support item assignment",
     "output_type": "error",
     "traceback": [
      "\u001b[1;31m---------------------------------------------------------------------------\u001b[0m",
      "\u001b[1;31mTypeError\u001b[0m                                 Traceback (most recent call last)",
      "\u001b[1;32m~\\AppData\\Local\\Temp/ipykernel_1804/583279329.py\u001b[0m in \u001b[0;36m<module>\u001b[1;34m\u001b[0m\n\u001b[1;32m----> 1\u001b[1;33m \u001b[0mword\u001b[0m\u001b[1;33m[\u001b[0m\u001b[1;36m0\u001b[0m\u001b[1;33m]\u001b[0m \u001b[1;33m=\u001b[0m \u001b[1;34m'a'\u001b[0m\u001b[1;33m\u001b[0m\u001b[1;33m\u001b[0m\u001b[0m\n\u001b[0m",
      "\u001b[1;31mTypeError\u001b[0m: 'str' object does not support item assignment"
     ]
    }
   ],
   "source": [
    "word[0] = 'a' # strings are immutable"
   ]
  },
  {
   "cell_type": "code",
   "execution_count": 58,
   "id": "e4ba4417",
   "metadata": {},
   "outputs": [],
   "source": [
    "#take out word[2], replace it with 'dont'\n",
    "word = word[:2] + 'dont' + word[3:] # string concate to change the string of word"
   ]
  },
  {
   "cell_type": "code",
   "execution_count": 59,
   "id": "257c4048",
   "metadata": {},
   "outputs": [
    {
     "name": "stdout",
     "output_type": "stream",
     "text": [
      "Wedontcome\n"
     ]
    }
   ],
   "source": [
    "print(word)"
   ]
  },
  {
   "cell_type": "code",
   "execution_count": 60,
   "id": "c3f10790",
   "metadata": {},
   "outputs": [],
   "source": [
    "my_list = [16, 'a', [4,5,'a'],13,'b','a']"
   ]
  },
  {
   "cell_type": "code",
   "execution_count": 63,
   "id": "dbbb16ed",
   "metadata": {},
   "outputs": [
    {
     "data": {
      "text/plain": [
       "'a'"
      ]
     },
     "execution_count": 63,
     "metadata": {},
     "output_type": "execute_result"
    }
   ],
   "source": [
    "my_list[-1]"
   ]
  },
  {
   "cell_type": "code",
   "execution_count": 64,
   "id": "0a1ff38b",
   "metadata": {},
   "outputs": [
    {
     "data": {
      "text/plain": [
       "13"
      ]
     },
     "execution_count": 64,
     "metadata": {},
     "output_type": "execute_result"
    }
   ],
   "source": [
    "my_list[3]"
   ]
  },
  {
   "cell_type": "code",
   "execution_count": 68,
   "id": "daba198d",
   "metadata": {},
   "outputs": [
    {
     "data": {
      "text/plain": [
       "5"
      ]
     },
     "execution_count": 68,
     "metadata": {},
     "output_type": "execute_result"
    }
   ],
   "source": [
    "my_list[2][1]"
   ]
  },
  {
   "cell_type": "code",
   "execution_count": 69,
   "id": "06d33f7a",
   "metadata": {},
   "outputs": [
    {
     "data": {
      "text/plain": [
       "'a'"
      ]
     },
     "execution_count": 69,
     "metadata": {},
     "output_type": "execute_result"
    }
   ],
   "source": [
    "my_list[2][-1]"
   ]
  },
  {
   "cell_type": "code",
   "execution_count": 70,
   "id": "a562a103",
   "metadata": {},
   "outputs": [
    {
     "data": {
      "text/plain": [
       "['a']"
      ]
     },
     "execution_count": 70,
     "metadata": {},
     "output_type": "execute_result"
    }
   ],
   "source": [
    "my_list[1:2] # splicing, splice a list. Gives us a string 'a' in a splice list"
   ]
  },
  {
   "cell_type": "code",
   "execution_count": 74,
   "id": "d57085e5",
   "metadata": {},
   "outputs": [],
   "source": [
    "# dictionary\n",
    "# mutable collection of items, unordered\n",
    "# made up of keys and values {key, value}\n",
    "covid_cases_per_1000 = {'Brooklyn' : 11987, \n",
    "                        'Bronx' : 13786, \n",
    "                        'Staten Island' : 13945}"
   ]
  },
  {
   "cell_type": "code",
   "execution_count": 75,
   "id": "39d90289",
   "metadata": {},
   "outputs": [
    {
     "data": {
      "text/plain": [
       "13945"
      ]
     },
     "execution_count": 75,
     "metadata": {},
     "output_type": "execute_result"
    }
   ],
   "source": [
    "covid_cases_per_1000['Staten Island'] # gives you the value [key]"
   ]
  },
  {
   "cell_type": "code",
   "execution_count": 82,
   "id": "f1e3e825",
   "metadata": {},
   "outputs": [
    {
     "name": "stdout",
     "output_type": "stream",
     "text": [
      "Brooklyn\n",
      "Bronx\n",
      "Staten Island\n"
     ]
    }
   ],
   "source": [
    "for i in covid_cases_per_1000:\n",
    "    print(i) # print all keys in dictionary"
   ]
  },
  {
   "cell_type": "code",
   "execution_count": 81,
   "id": "af14b3d2",
   "metadata": {},
   "outputs": [
    {
     "name": "stdout",
     "output_type": "stream",
     "text": [
      "Brooklyn 11987\n",
      "Bronx 13786\n",
      "Staten Island 13945\n"
     ]
    }
   ],
   "source": [
    "for k,v in covid_cases_per_1000.items():\n",
    "    print (k,v) # print all keys and values in dictionary"
   ]
  },
  {
   "cell_type": "code",
   "execution_count": 84,
   "id": "aaacf262",
   "metadata": {},
   "outputs": [
    {
     "name": "stdout",
     "output_type": "stream",
     "text": [
      "11987\n",
      "13786\n",
      "13945\n"
     ]
    }
   ],
   "source": [
    "for keys in covid_cases_per_1000.values():\n",
    "    print(keys) # print all values in dictionary"
   ]
  },
  {
   "cell_type": "code",
   "execution_count": 86,
   "id": "23c4688b",
   "metadata": {},
   "outputs": [
    {
     "data": {
      "text/plain": [
       "dict_keys(['Brooklyn', 'Bronx', 'Staten Island'])"
      ]
     },
     "execution_count": 86,
     "metadata": {},
     "output_type": "execute_result"
    }
   ],
   "source": [
    "covid_cases_per_1000.keys()"
   ]
  },
  {
   "cell_type": "code",
   "execution_count": 87,
   "id": "37e85500",
   "metadata": {},
   "outputs": [
    {
     "data": {
      "text/plain": [
       "dict_values([11987, 13786, 13945])"
      ]
     },
     "execution_count": 87,
     "metadata": {},
     "output_type": "execute_result"
    }
   ],
   "source": [
    "covid_cases_per_1000.values()"
   ]
  },
  {
   "cell_type": "code",
   "execution_count": 88,
   "id": "1ab15893",
   "metadata": {},
   "outputs": [
    {
     "data": {
      "text/plain": [
       "['Brooklyn', 'Bronx', 'Staten Island']"
      ]
     },
     "execution_count": 88,
     "metadata": {},
     "output_type": "execute_result"
    }
   ],
   "source": [
    "list(covid_cases_per_1000.keys())"
   ]
  },
  {
   "cell_type": "code",
   "execution_count": 89,
   "id": "10bf4692",
   "metadata": {},
   "outputs": [
    {
     "name": "stdout",
     "output_type": "stream",
     "text": [
      "16\n",
      "a\n",
      "[4, 5, 'a']\n",
      "13\n",
      "b\n",
      "a\n"
     ]
    }
   ],
   "source": [
    "for v in my_list: # loop through the dictionary\n",
    "    print(v)"
   ]
  },
  {
   "cell_type": "code",
   "execution_count": 90,
   "id": "0626ad0a",
   "metadata": {},
   "outputs": [
    {
     "name": "stdout",
     "output_type": "stream",
     "text": [
      "0\n",
      "1\n",
      "2\n",
      "3\n",
      "4\n",
      "5\n",
      "6\n",
      "7\n",
      "8\n",
      "9\n"
     ]
    }
   ],
   "source": [
    "for i in range(10): # range from 0 - 9\n",
    "    print(i)"
   ]
  },
  {
   "cell_type": "code",
   "execution_count": 94,
   "id": "cdc37440",
   "metadata": {},
   "outputs": [
    {
     "name": "stdout",
     "output_type": "stream",
     "text": [
      "13786\n",
      "13945\n"
     ]
    }
   ],
   "source": [
    "for keys in covid_cases_per_1000.values():\n",
    "    if keys > 12000: # print values that is greater than 12000\n",
    "        print(keys)"
   ]
  },
  {
   "cell_type": "code",
   "execution_count": 95,
   "id": "69b23b96",
   "metadata": {},
   "outputs": [
    {
     "name": "stdout",
     "output_type": "stream",
     "text": [
      "['a', 'b', 13, [4, 5, 'a'], 'a', 16]\n"
     ]
    }
   ],
   "source": [
    "my_list.reverse() # reverse list method\n",
    "print(my_list)"
   ]
  },
  {
   "cell_type": "code",
   "execution_count": 99,
   "id": "8841606f",
   "metadata": {},
   "outputs": [],
   "source": [
    "# (number, list of words)\n",
    "def long_words(n, lst):\n",
    "    word_list = [] # empty list\n",
    "    for w in lst: # loop through list\n",
    "        if len(w) > n:\n",
    "            word_list.append(w) # append(adding) to list\n",
    "    return word_list"
   ]
  },
  {
   "cell_type": "code",
   "execution_count": 100,
   "id": "50967130",
   "metadata": {},
   "outputs": [
    {
     "name": "stdout",
     "output_type": "stream",
     "text": [
      "['Today', 'Thursday']\n"
     ]
    }
   ],
   "source": [
    "print(long_words(4,['Today', 'is', 'Thursday']))"
   ]
  },
  {
   "cell_type": "code",
   "execution_count": 101,
   "id": "16e6d949",
   "metadata": {},
   "outputs": [
    {
     "data": {
      "text/plain": [
       "['Today', 'Thursday']"
      ]
     },
     "execution_count": 101,
     "metadata": {},
     "output_type": "execute_result"
    }
   ],
   "source": [
    "lst = ['Today', 'is', 'Thursday']\n",
    "ret_list = [w for w in lst if len(w) > 4] # list comprehension : newlist = [expression for item in iterable if condition == True]\n",
    "ret_list"
   ]
  },
  {
   "cell_type": "code",
   "execution_count": null,
   "id": "88f006cf",
   "metadata": {},
   "outputs": [],
   "source": []
  }
 ],
 "metadata": {
  "kernelspec": {
   "display_name": "Python 3 (ipykernel)",
   "language": "python",
   "name": "python3"
  },
  "language_info": {
   "codemirror_mode": {
    "name": "ipython",
    "version": 3
   },
   "file_extension": ".py",
   "mimetype": "text/x-python",
   "name": "python",
   "nbconvert_exporter": "python",
   "pygments_lexer": "ipython3",
   "version": "3.9.7"
  }
 },
 "nbformat": 4,
 "nbformat_minor": 5
}
