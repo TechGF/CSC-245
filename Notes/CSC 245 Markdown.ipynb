{
 "cells": [
  {
   "cell_type": "markdown",
   "id": "28dd0dd1",
   "metadata": {},
   "source": [
    "# Function: Hello\n",
    "\n",
    "This is a great sample function which I use in many of my courses to indicate how Python does all sorts of things.\n",
    "\n",
    "For example, this function can be used:\n",
    "\n",
    "1. At parties\n",
    "    1. Birthday parties\n",
    "    2. Graduation parties\n",
    "2. At weddings\n",
    "3. At dance festivals\n",
    "\n",
    "Bullets? We can do that:\n",
    "- At parties\n",
    "    - Birthday parties\n",
    "    - Graduation parties\n",
    "- At weddings\n",
    "- At dance festivals"
   ]
  },
  {
   "cell_type": "markdown",
   "id": "942d909a",
   "metadata": {},
   "source": [
    "# Exercise: Try this:\n",
    "\n",
    "1. Write a function\n",
    "2. Get the output from the function\n",
    "3. Print the output on the screen\n",
    "\n",
    "Example:\n",
    "\n",
    "```python\n",
    "    x = f(y)\n",
    "    print(x)\n",
    "```"
   ]
  },
  {
   "cell_type": "code",
   "execution_count": 1,
   "id": "7f094c5b",
   "metadata": {},
   "outputs": [
    {
     "data": {
      "text/plain": [
       "'hello, world'"
      ]
     },
     "execution_count": 1,
     "metadata": {},
     "output_type": "execute_result"
    }
   ],
   "source": [
    "def hello(name):\n",
    "    return f'hello, {name}'\n",
    "hello('world')"
   ]
  },
  {
   "cell_type": "markdown",
   "id": "a463a715",
   "metadata": {},
   "source": [
    "# This is a headline\n",
    "\n",
    "This is a sentence. And you could say that it's a very long sentence.\n",
    "So long that it goes on and on. **Actually**, it's *more* of a paragraph. But \n",
    "the paragraph is far too long\n",
    "\n",
    "# This is a subhead\n",
    "\n",
    "This is some more text under the subhead\n",
    "\n",
    "# This is a subhead\n",
    "\n",
    "This is some more text under the subhead"
   ]
  },
  {
   "attachments": {},
   "cell_type": "markdown",
   "id": "97254855",
   "metadata": {},
   "source": [
    "# Here are some links!\n",
    "\n",
    "I like [Python](https://python.org).  It is a great language!\n",
    "\n",
    "![Python logo](https://www.python.org/static/community_logos/python-logo-master-v3-TM-flattened.png)"
   ]
  },
  {
   "cell_type": "markdown",
   "id": "30ab27a5",
   "metadata": {},
   "source": [
    "Markdown guide is at https://www.markdownguide.org/cheat-sheet/."
   ]
  },
  {
   "cell_type": "code",
   "execution_count": null,
   "id": "03d86c66",
   "metadata": {},
   "outputs": [],
   "source": []
  }
 ],
 "metadata": {
  "kernelspec": {
   "display_name": "Python 3 (ipykernel)",
   "language": "python",
   "name": "python3"
  },
  "language_info": {
   "codemirror_mode": {
    "name": "ipython",
    "version": 3
   },
   "file_extension": ".py",
   "mimetype": "text/x-python",
   "name": "python",
   "nbconvert_exporter": "python",
   "pygments_lexer": "ipython3",
   "version": "3.9.7"
  }
 },
 "nbformat": 4,
 "nbformat_minor": 5
}
