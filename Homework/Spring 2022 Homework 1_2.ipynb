{
 "cells": [
  {
   "cell_type": "markdown",
   "metadata": {},
   "source": [
    "The following uses data from: https://data.cdc.gov/Case-Surveillance/United-States-COVID-19-Cases-and-Deaths-by-State-o/9mfq-cb36/data\n",
    "1. I posted the data in the same folder as this assignment and under datasest as United_States_COVID-19_Cases_and_Deaths_by_State.csv, since this site changes it often.  I converted the types of some of the columns to make this assignment easier for you.\n",
    "2. Read the site so that you understand what the data is about.\n",
    "4. Comments below indicate the python coding questions (output is there too!)\n",
    "NOTE THAT I HAVE ANSWERS BELOW EACH QUESTION. THESE ARE BASED ON MY DOWNLOAD FROM 2/16/2022 and the file that is in this folder."
   ]
  },
  {
   "cell_type": "code",
   "execution_count": 1,
   "metadata": {},
   "outputs": [],
   "source": [
    "#1. import numpy and pandas\n"
   ]
  },
  {
   "cell_type": "code",
   "execution_count": 2,
   "metadata": {},
   "outputs": [],
   "source": [
    "#2. read the file \"United_States_COVID-19_Cases_and_Deaths_by_State.csv\" into a dataframe \n",
    "#named df  PLEASE MAKE SURE TO NAME YOUR DATAFRAME df so that I can test your code!\n"
   ]
  },
  {
   "cell_type": "code",
   "execution_count": 3,
   "metadata": {},
   "outputs": [
    {
     "data": {
      "text/plain": [
       "submission_date     object\n",
       "state               object\n",
       "tot_cases          float64\n",
       "conf_cases         float64\n",
       "prob_cases         float64\n",
       "new_case           float64\n",
       "pnew_case          float64\n",
       "tot_death          float64\n",
       "conf_death         float64\n",
       "prob_death         float64\n",
       "new_death          float64\n",
       "pnew_death         float64\n",
       "created_at          object\n",
       "consent_cases      float64\n",
       "consent_deaths     float64\n",
       "dtype: object"
      ]
     },
     "execution_count": 3,
     "metadata": {},
     "output_type": "execute_result"
    }
   ],
   "source": [
    "#3. show the types of all columns in your dataframe\n"
   ]
  },
  {
   "cell_type": "code",
   "execution_count": 4,
   "metadata": {},
   "outputs": [],
   "source": [
    "#4. execute the following line of code. It changes the dates to date type from object type\n",
    "df[['submission_date', 'created_at']] = df[['submission_date', 'created_at'\n",
    " ]].apply(pd.to_datetime, errors = 'coerce')"
   ]
  },
  {
   "cell_type": "code",
   "execution_count": 5,
   "metadata": {},
   "outputs": [
    {
     "data": {
      "text/plain": [
       "submission_date    datetime64[ns]\n",
       "state                      object\n",
       "tot_cases                 float64\n",
       "conf_cases                float64\n",
       "prob_cases                float64\n",
       "new_case                  float64\n",
       "pnew_case                 float64\n",
       "tot_death                 float64\n",
       "conf_death                float64\n",
       "prob_death                float64\n",
       "new_death                 float64\n",
       "pnew_death                float64\n",
       "created_at         datetime64[ns]\n",
       "consent_cases             float64\n",
       "consent_deaths            float64\n",
       "dtype: object"
      ]
     },
     "execution_count": 5,
     "metadata": {},
     "output_type": "execute_result"
    }
   ],
   "source": [
    "#4. continued...now show the types of all columns again\n"
   ]
  },
  {
   "cell_type": "code",
   "execution_count": 6,
   "metadata": {},
   "outputs": [
    {
     "data": {
      "text/html": [
       "<div>\n",
       "<style scoped>\n",
       "    .dataframe tbody tr th:only-of-type {\n",
       "        vertical-align: middle;\n",
       "    }\n",
       "\n",
       "    .dataframe tbody tr th {\n",
       "        vertical-align: top;\n",
       "    }\n",
       "\n",
       "    .dataframe thead th {\n",
       "        text-align: right;\n",
       "    }\n",
       "</style>\n",
       "<table border=\"1\" class=\"dataframe\">\n",
       "  <thead>\n",
       "    <tr style=\"text-align: right;\">\n",
       "      <th></th>\n",
       "      <th>submission_date</th>\n",
       "      <th>state</th>\n",
       "      <th>tot_cases</th>\n",
       "      <th>conf_cases</th>\n",
       "      <th>prob_cases</th>\n",
       "      <th>new_case</th>\n",
       "      <th>pnew_case</th>\n",
       "      <th>tot_death</th>\n",
       "      <th>conf_death</th>\n",
       "      <th>prob_death</th>\n",
       "      <th>new_death</th>\n",
       "      <th>pnew_death</th>\n",
       "      <th>created_at</th>\n",
       "      <th>consent_cases</th>\n",
       "      <th>consent_deaths</th>\n",
       "    </tr>\n",
       "  </thead>\n",
       "  <tbody>\n",
       "    <tr>\n",
       "      <th>0</th>\n",
       "      <td>2021-03-11</td>\n",
       "      <td>KS</td>\n",
       "      <td>NaN</td>\n",
       "      <td>NaN</td>\n",
       "      <td>NaN</td>\n",
       "      <td>0.0</td>\n",
       "      <td>0.0</td>\n",
       "      <td>NaN</td>\n",
       "      <td>NaN</td>\n",
       "      <td>NaN</td>\n",
       "      <td>0.0</td>\n",
       "      <td>0.0</td>\n",
       "      <td>2021-03-12 15:20:13</td>\n",
       "      <td>NaN</td>\n",
       "      <td>NaN</td>\n",
       "    </tr>\n",
       "    <tr>\n",
       "      <th>1</th>\n",
       "      <td>2021-02-12</td>\n",
       "      <td>UT</td>\n",
       "      <td>NaN</td>\n",
       "      <td>NaN</td>\n",
       "      <td>0.0</td>\n",
       "      <td>NaN</td>\n",
       "      <td>0.0</td>\n",
       "      <td>NaN</td>\n",
       "      <td>NaN</td>\n",
       "      <td>56.0</td>\n",
       "      <td>11.0</td>\n",
       "      <td>2.0</td>\n",
       "      <td>2021-02-13 14:50:08</td>\n",
       "      <td>NaN</td>\n",
       "      <td>NaN</td>\n",
       "    </tr>\n",
       "    <tr>\n",
       "      <th>2</th>\n",
       "      <td>2021-03-01</td>\n",
       "      <td>CO</td>\n",
       "      <td>NaN</td>\n",
       "      <td>NaN</td>\n",
       "      <td>NaN</td>\n",
       "      <td>677.0</td>\n",
       "      <td>60.0</td>\n",
       "      <td>NaN</td>\n",
       "      <td>NaN</td>\n",
       "      <td>734.0</td>\n",
       "      <td>1.0</td>\n",
       "      <td>0.0</td>\n",
       "      <td>2021-03-01 00:00:00</td>\n",
       "      <td>NaN</td>\n",
       "      <td>NaN</td>\n",
       "    </tr>\n",
       "    <tr>\n",
       "      <th>3</th>\n",
       "      <td>2020-02-04</td>\n",
       "      <td>AR</td>\n",
       "      <td>0.0</td>\n",
       "      <td>NaN</td>\n",
       "      <td>NaN</td>\n",
       "      <td>0.0</td>\n",
       "      <td>NaN</td>\n",
       "      <td>0.0</td>\n",
       "      <td>NaN</td>\n",
       "      <td>NaN</td>\n",
       "      <td>0.0</td>\n",
       "      <td>NaN</td>\n",
       "      <td>2020-03-26 16:22:39</td>\n",
       "      <td>NaN</td>\n",
       "      <td>NaN</td>\n",
       "    </tr>\n",
       "    <tr>\n",
       "      <th>4</th>\n",
       "      <td>2020-08-22</td>\n",
       "      <td>AR</td>\n",
       "      <td>NaN</td>\n",
       "      <td>NaN</td>\n",
       "      <td>NaN</td>\n",
       "      <td>547.0</td>\n",
       "      <td>0.0</td>\n",
       "      <td>674.0</td>\n",
       "      <td>NaN</td>\n",
       "      <td>NaN</td>\n",
       "      <td>11.0</td>\n",
       "      <td>0.0</td>\n",
       "      <td>2020-08-23 14:15:28</td>\n",
       "      <td>NaN</td>\n",
       "      <td>NaN</td>\n",
       "    </tr>\n",
       "  </tbody>\n",
       "</table>\n",
       "</div>"
      ],
      "text/plain": [
       "  submission_date state  tot_cases  conf_cases  prob_cases  new_case  \\\n",
       "0      2021-03-11    KS        NaN         NaN         NaN       0.0   \n",
       "1      2021-02-12    UT        NaN         NaN         0.0       NaN   \n",
       "2      2021-03-01    CO        NaN         NaN         NaN     677.0   \n",
       "3      2020-02-04    AR        0.0         NaN         NaN       0.0   \n",
       "4      2020-08-22    AR        NaN         NaN         NaN     547.0   \n",
       "\n",
       "   pnew_case  tot_death  conf_death  prob_death  new_death  pnew_death  \\\n",
       "0        0.0        NaN         NaN         NaN        0.0         0.0   \n",
       "1        0.0        NaN         NaN        56.0       11.0         2.0   \n",
       "2       60.0        NaN         NaN       734.0        1.0         0.0   \n",
       "3        NaN        0.0         NaN         NaN        0.0         NaN   \n",
       "4        0.0      674.0         NaN         NaN       11.0         0.0   \n",
       "\n",
       "           created_at  consent_cases  consent_deaths  \n",
       "0 2021-03-12 15:20:13            NaN             NaN  \n",
       "1 2021-02-13 14:50:08            NaN             NaN  \n",
       "2 2021-03-01 00:00:00            NaN             NaN  \n",
       "3 2020-03-26 16:22:39            NaN             NaN  \n",
       "4 2020-08-23 14:15:28            NaN             NaN  "
      ]
     },
     "execution_count": 6,
     "metadata": {},
     "output_type": "execute_result"
    }
   ],
   "source": [
    "#5. show the first five rows in the dataframe\n"
   ]
  },
  {
   "cell_type": "code",
   "execution_count": 7,
   "metadata": {},
   "outputs": [
    {
     "data": {
      "text/plain": [
       "45300"
      ]
     },
     "execution_count": 7,
     "metadata": {},
     "output_type": "execute_result"
    }
   ],
   "source": [
    "#6. how many rows are there in the dataframe?"
   ]
  },
  {
   "cell_type": "code",
   "execution_count": 8,
   "metadata": {},
   "outputs": [
    {
     "data": {
      "text/plain": [
       "['submission_date',\n",
       " 'state',\n",
       " 'tot_cases',\n",
       " 'conf_cases',\n",
       " 'prob_cases',\n",
       " 'new_case',\n",
       " 'pnew_case',\n",
       " 'tot_death',\n",
       " 'conf_death',\n",
       " 'prob_death',\n",
       " 'new_death',\n",
       " 'pnew_death',\n",
       " 'created_at',\n",
       " 'consent_cases',\n",
       " 'consent_deaths']"
      ]
     },
     "execution_count": 8,
     "metadata": {},
     "output_type": "execute_result"
    }
   ],
   "source": [
    "#7. print out the names of the columns (here it is as a list, \n",
    "#but yours does not have to look exaclty like this one)"
   ]
  },
  {
   "cell_type": "code",
   "execution_count": 9,
   "metadata": {},
   "outputs": [
    {
     "data": {
      "text/plain": [
       "60"
      ]
     },
     "execution_count": 9,
     "metadata": {},
     "output_type": "execute_result"
    }
   ],
   "source": [
    "#8. how many unique 'states' are listed? "
   ]
  },
  {
   "cell_type": "code",
   "execution_count": 10,
   "metadata": {},
   "outputs": [
    {
     "data": {
      "text/plain": [
       "array(['AK', 'AL', 'AR', 'AS', 'AZ', 'CA', 'CO', 'CT', 'DC', 'DE', 'FL',\n",
       "       'FSM', 'GA', 'GU', 'HI', 'IA', 'ID', 'IL', 'IN', 'KS', 'KY', 'LA',\n",
       "       'MA', 'MD', 'ME', 'MI', 'MN', 'MO', 'MP', 'MS', 'MT', 'NC', 'ND',\n",
       "       'NE', 'NH', 'NJ', 'NM', 'NV', 'NY', 'NYC', 'OH', 'OK', 'OR', 'PA',\n",
       "       'PR', 'PW', 'RI', 'RMI', 'SC', 'SD', 'TN', 'TX', 'UT', 'VA', 'VI',\n",
       "       'VT', 'WA', 'WI', 'WV', 'WY'], dtype=object)"
      ]
     },
     "execution_count": 10,
     "metadata": {},
     "output_type": "execute_result"
    }
   ],
   "source": [
    "#9. print a list of the unique states in sorted order (or a numpy array of the states sorted) \n"
   ]
  },
  {
   "cell_type": "code",
   "execution_count": 11,
   "metadata": {},
   "outputs": [
    {
     "data": {
      "text/html": [
       "<div>\n",
       "<style scoped>\n",
       "    .dataframe tbody tr th:only-of-type {\n",
       "        vertical-align: middle;\n",
       "    }\n",
       "\n",
       "    .dataframe tbody tr th {\n",
       "        vertical-align: top;\n",
       "    }\n",
       "\n",
       "    .dataframe thead th {\n",
       "        text-align: right;\n",
       "    }\n",
       "</style>\n",
       "<table border=\"1\" class=\"dataframe\">\n",
       "  <thead>\n",
       "    <tr style=\"text-align: right;\">\n",
       "      <th></th>\n",
       "      <th>submission_date</th>\n",
       "      <th>state</th>\n",
       "      <th>tot_cases</th>\n",
       "      <th>conf_cases</th>\n",
       "      <th>prob_cases</th>\n",
       "      <th>new_case</th>\n",
       "      <th>pnew_case</th>\n",
       "      <th>tot_death</th>\n",
       "      <th>conf_death</th>\n",
       "      <th>prob_death</th>\n",
       "      <th>new_death</th>\n",
       "      <th>pnew_death</th>\n",
       "      <th>created_at</th>\n",
       "      <th>consent_cases</th>\n",
       "      <th>consent_deaths</th>\n",
       "    </tr>\n",
       "  </thead>\n",
       "  <tbody>\n",
       "    <tr>\n",
       "      <th>14</th>\n",
       "      <td>2021-09-23</td>\n",
       "      <td>NYC</td>\n",
       "      <td>NaN</td>\n",
       "      <td>NaN</td>\n",
       "      <td>NaN</td>\n",
       "      <td>NaN</td>\n",
       "      <td>168.0</td>\n",
       "      <td>NaN</td>\n",
       "      <td>NaN</td>\n",
       "      <td>NaN</td>\n",
       "      <td>20.0</td>\n",
       "      <td>-7.0</td>\n",
       "      <td>2021-09-24 13:56:18</td>\n",
       "      <td>NaN</td>\n",
       "      <td>NaN</td>\n",
       "    </tr>\n",
       "    <tr>\n",
       "      <th>38</th>\n",
       "      <td>2021-06-28</td>\n",
       "      <td>NYC</td>\n",
       "      <td>NaN</td>\n",
       "      <td>NaN</td>\n",
       "      <td>NaN</td>\n",
       "      <td>160.0</td>\n",
       "      <td>26.0</td>\n",
       "      <td>NaN</td>\n",
       "      <td>NaN</td>\n",
       "      <td>NaN</td>\n",
       "      <td>2.0</td>\n",
       "      <td>1.0</td>\n",
       "      <td>2021-06-29 14:25:53</td>\n",
       "      <td>NaN</td>\n",
       "      <td>NaN</td>\n",
       "    </tr>\n",
       "    <tr>\n",
       "      <th>103</th>\n",
       "      <td>2020-04-05</td>\n",
       "      <td>NYC</td>\n",
       "      <td>NaN</td>\n",
       "      <td>NaN</td>\n",
       "      <td>876.0</td>\n",
       "      <td>NaN</td>\n",
       "      <td>166.0</td>\n",
       "      <td>NaN</td>\n",
       "      <td>NaN</td>\n",
       "      <td>869.0</td>\n",
       "      <td>664.0</td>\n",
       "      <td>166.0</td>\n",
       "      <td>2020-04-03 00:00:00</td>\n",
       "      <td>NaN</td>\n",
       "      <td>NaN</td>\n",
       "    </tr>\n",
       "    <tr>\n",
       "      <th>108</th>\n",
       "      <td>2020-10-09</td>\n",
       "      <td>NYC</td>\n",
       "      <td>NaN</td>\n",
       "      <td>NaN</td>\n",
       "      <td>NaN</td>\n",
       "      <td>626.0</td>\n",
       "      <td>84.0</td>\n",
       "      <td>NaN</td>\n",
       "      <td>NaN</td>\n",
       "      <td>NaN</td>\n",
       "      <td>4.0</td>\n",
       "      <td>0.0</td>\n",
       "      <td>2020-10-07 00:00:00</td>\n",
       "      <td>NaN</td>\n",
       "      <td>NaN</td>\n",
       "    </tr>\n",
       "    <tr>\n",
       "      <th>126</th>\n",
       "      <td>2021-08-13</td>\n",
       "      <td>NYC</td>\n",
       "      <td>NaN</td>\n",
       "      <td>NaN</td>\n",
       "      <td>NaN</td>\n",
       "      <td>NaN</td>\n",
       "      <td>392.0</td>\n",
       "      <td>NaN</td>\n",
       "      <td>NaN</td>\n",
       "      <td>NaN</td>\n",
       "      <td>9.0</td>\n",
       "      <td>5.0</td>\n",
       "      <td>2021-08-14 14:46:52</td>\n",
       "      <td>NaN</td>\n",
       "      <td>NaN</td>\n",
       "    </tr>\n",
       "    <tr>\n",
       "      <th>...</th>\n",
       "      <td>...</td>\n",
       "      <td>...</td>\n",
       "      <td>...</td>\n",
       "      <td>...</td>\n",
       "      <td>...</td>\n",
       "      <td>...</td>\n",
       "      <td>...</td>\n",
       "      <td>...</td>\n",
       "      <td>...</td>\n",
       "      <td>...</td>\n",
       "      <td>...</td>\n",
       "      <td>...</td>\n",
       "      <td>...</td>\n",
       "      <td>...</td>\n",
       "      <td>...</td>\n",
       "    </tr>\n",
       "    <tr>\n",
       "      <th>42163</th>\n",
       "      <td>2020-02-03</td>\n",
       "      <td>NYC</td>\n",
       "      <td>0.0</td>\n",
       "      <td>NaN</td>\n",
       "      <td>NaN</td>\n",
       "      <td>0.0</td>\n",
       "      <td>NaN</td>\n",
       "      <td>0.0</td>\n",
       "      <td>NaN</td>\n",
       "      <td>NaN</td>\n",
       "      <td>0.0</td>\n",
       "      <td>NaN</td>\n",
       "      <td>2020-03-26 16:22:39</td>\n",
       "      <td>NaN</td>\n",
       "      <td>NaN</td>\n",
       "    </tr>\n",
       "    <tr>\n",
       "      <th>42245</th>\n",
       "      <td>2021-11-04</td>\n",
       "      <td>NYC</td>\n",
       "      <td>NaN</td>\n",
       "      <td>NaN</td>\n",
       "      <td>NaN</td>\n",
       "      <td>937.0</td>\n",
       "      <td>227.0</td>\n",
       "      <td>NaN</td>\n",
       "      <td>NaN</td>\n",
       "      <td>NaN</td>\n",
       "      <td>12.0</td>\n",
       "      <td>-2.0</td>\n",
       "      <td>2021-11-05 14:19:47</td>\n",
       "      <td>NaN</td>\n",
       "      <td>NaN</td>\n",
       "    </tr>\n",
       "    <tr>\n",
       "      <th>42252</th>\n",
       "      <td>2021-01-12</td>\n",
       "      <td>NYC</td>\n",
       "      <td>NaN</td>\n",
       "      <td>NaN</td>\n",
       "      <td>NaN</td>\n",
       "      <td>NaN</td>\n",
       "      <td>990.0</td>\n",
       "      <td>NaN</td>\n",
       "      <td>NaN</td>\n",
       "      <td>NaN</td>\n",
       "      <td>56.0</td>\n",
       "      <td>4.0</td>\n",
       "      <td>2021-01-10 00:00:00</td>\n",
       "      <td>NaN</td>\n",
       "      <td>NaN</td>\n",
       "    </tr>\n",
       "    <tr>\n",
       "      <th>42276</th>\n",
       "      <td>2020-11-04</td>\n",
       "      <td>NYC</td>\n",
       "      <td>NaN</td>\n",
       "      <td>NaN</td>\n",
       "      <td>NaN</td>\n",
       "      <td>NaN</td>\n",
       "      <td>330.0</td>\n",
       "      <td>NaN</td>\n",
       "      <td>NaN</td>\n",
       "      <td>NaN</td>\n",
       "      <td>10.0</td>\n",
       "      <td>0.0</td>\n",
       "      <td>2020-11-02 00:00:00</td>\n",
       "      <td>NaN</td>\n",
       "      <td>NaN</td>\n",
       "    </tr>\n",
       "    <tr>\n",
       "      <th>42278</th>\n",
       "      <td>2020-11-18</td>\n",
       "      <td>NYC</td>\n",
       "      <td>NaN</td>\n",
       "      <td>NaN</td>\n",
       "      <td>NaN</td>\n",
       "      <td>NaN</td>\n",
       "      <td>527.0</td>\n",
       "      <td>NaN</td>\n",
       "      <td>NaN</td>\n",
       "      <td>NaN</td>\n",
       "      <td>10.0</td>\n",
       "      <td>0.0</td>\n",
       "      <td>2020-11-16 00:00:00</td>\n",
       "      <td>NaN</td>\n",
       "      <td>NaN</td>\n",
       "    </tr>\n",
       "  </tbody>\n",
       "</table>\n",
       "<p>755 rows × 15 columns</p>\n",
       "</div>"
      ],
      "text/plain": [
       "      submission_date state  tot_cases  conf_cases  prob_cases  new_case  \\\n",
       "14         2021-09-23   NYC        NaN         NaN         NaN       NaN   \n",
       "38         2021-06-28   NYC        NaN         NaN         NaN     160.0   \n",
       "103        2020-04-05   NYC        NaN         NaN       876.0       NaN   \n",
       "108        2020-10-09   NYC        NaN         NaN         NaN     626.0   \n",
       "126        2021-08-13   NYC        NaN         NaN         NaN       NaN   \n",
       "...               ...   ...        ...         ...         ...       ...   \n",
       "42163      2020-02-03   NYC        0.0         NaN         NaN       0.0   \n",
       "42245      2021-11-04   NYC        NaN         NaN         NaN     937.0   \n",
       "42252      2021-01-12   NYC        NaN         NaN         NaN       NaN   \n",
       "42276      2020-11-04   NYC        NaN         NaN         NaN       NaN   \n",
       "42278      2020-11-18   NYC        NaN         NaN         NaN       NaN   \n",
       "\n",
       "       pnew_case  tot_death  conf_death  prob_death  new_death  pnew_death  \\\n",
       "14         168.0        NaN         NaN         NaN       20.0        -7.0   \n",
       "38          26.0        NaN         NaN         NaN        2.0         1.0   \n",
       "103        166.0        NaN         NaN       869.0      664.0       166.0   \n",
       "108         84.0        NaN         NaN         NaN        4.0         0.0   \n",
       "126        392.0        NaN         NaN         NaN        9.0         5.0   \n",
       "...          ...        ...         ...         ...        ...         ...   \n",
       "42163        NaN        0.0         NaN         NaN        0.0         NaN   \n",
       "42245      227.0        NaN         NaN         NaN       12.0        -2.0   \n",
       "42252      990.0        NaN         NaN         NaN       56.0         4.0   \n",
       "42276      330.0        NaN         NaN         NaN       10.0         0.0   \n",
       "42278      527.0        NaN         NaN         NaN       10.0         0.0   \n",
       "\n",
       "               created_at  consent_cases  consent_deaths  \n",
       "14    2021-09-24 13:56:18            NaN             NaN  \n",
       "38    2021-06-29 14:25:53            NaN             NaN  \n",
       "103   2020-04-03 00:00:00            NaN             NaN  \n",
       "108   2020-10-07 00:00:00            NaN             NaN  \n",
       "126   2021-08-14 14:46:52            NaN             NaN  \n",
       "...                   ...            ...             ...  \n",
       "42163 2020-03-26 16:22:39            NaN             NaN  \n",
       "42245 2021-11-05 14:19:47            NaN             NaN  \n",
       "42252 2021-01-10 00:00:00            NaN             NaN  \n",
       "42276 2020-11-02 00:00:00            NaN             NaN  \n",
       "42278 2020-11-16 00:00:00            NaN             NaN  \n",
       "\n",
       "[755 rows x 15 columns]"
      ]
     },
     "execution_count": 11,
     "metadata": {},
     "output_type": "execute_result"
    }
   ],
   "source": [
    "#10. select from the dataframe\n",
    "#print out all rows of covid where the state is exactly 'NYC'\n"
   ]
  },
  {
   "cell_type": "code",
   "execution_count": 12,
   "metadata": {},
   "outputs": [
    {
     "data": {
      "text/plain": [
       "755"
      ]
     },
     "execution_count": 12,
     "metadata": {},
     "output_type": "execute_result"
    }
   ],
   "source": [
    "#11. print out how many rows in the dataframe are about 'NYC' \n",
    "#(if you want more information there, and not just the number, that is fine too!)\n"
   ]
  },
  {
   "cell_type": "code",
   "execution_count": 13,
   "metadata": {},
   "outputs": [
    {
     "data": {
      "text/plain": [
       "17"
      ]
     },
     "execution_count": 13,
     "metadata": {},
     "output_type": "execute_result"
    }
   ],
   "source": [
    "#12. how many weeks did NYC have new deaths more than 500 \n",
    "#in other words: print out how many rows are about 'NYC' with 'new_death' more than 500\n",
    "#hint: one way to do this: you can use & (for conjunction to check multiple conditions on rows\n"
   ]
  },
  {
   "cell_type": "code",
   "execution_count": 14,
   "metadata": {},
   "outputs": [
    {
     "data": {
      "text/plain": [
       "Timestamp('2020-04-20 00:00:00')"
      ]
     },
     "execution_count": 14,
     "metadata": {},
     "output_type": "execute_result"
    }
   ],
   "source": [
    "#13. what is the lastest date that NYC had > 500 deaths\n"
   ]
  },
  {
   "cell_type": "code",
   "execution_count": 15,
   "metadata": {},
   "outputs": [
    {
     "data": {
      "text/plain": [
       "261     2021-05-12\n",
       "1940    2021-07-23\n",
       "2083    2021-07-25\n",
       "2163    2021-05-07\n",
       "3956    2021-07-21\n",
       "4857    2021-07-24\n",
       "4954    2021-05-03\n",
       "5653    2020-10-31\n",
       "5873    2021-10-17\n",
       "36146   2021-10-25\n",
       "36791   2021-10-15\n",
       "36941   2021-05-09\n",
       "37122   2020-10-28\n",
       "37170   2021-10-11\n",
       "37702   2021-10-16\n",
       "39499   2020-10-29\n",
       "39561   2021-07-19\n",
       "39787   2021-11-02\n",
       "40098   2021-05-08\n",
       "40231   2020-11-01\n",
       "41752   2020-10-24\n",
       "41885   2021-10-21\n",
       "42245   2021-11-04\n",
       "Name: submission_date, dtype: datetime64[ns]"
      ]
     },
     "execution_count": 15,
     "metadata": {},
     "output_type": "execute_result"
    }
   ],
   "source": [
    "#14. give the list of weeks (submission_date)  (can be a list or numpy array or series) where NYC had more cases than 1000\n",
    "# to do this, you need to add the new_case and pnew_case -- you can make a new column or not!\n"
   ]
  },
  {
   "cell_type": "code",
   "execution_count": 16,
   "metadata": {},
   "outputs": [
    {
     "data": {
      "text/plain": [
       "state\n",
       "AK       938.0\n",
       "AL     17656.0\n",
       "AR      9817.0\n",
       "AS         0.0\n",
       "AZ     27181.0\n",
       "CA     80848.0\n",
       "CO     11634.0\n",
       "CT     10260.0\n",
       "DC      1309.0\n",
       "DE      2505.0\n",
       "FL     67911.0\n",
       "FSM        0.0\n",
       "GA     33752.0\n",
       "GU       305.0\n",
       "HI      1250.0\n",
       "IA      8829.0\n",
       "ID      4577.0\n",
       "IL     35998.0\n",
       "IN     22186.0\n",
       "KS      7860.0\n",
       "KY     13416.0\n",
       "LA     16217.0\n",
       "MA     22856.0\n",
       "MD     13925.0\n",
       "ME      1849.0\n",
       "MI     28018.0\n",
       "MN     11791.0\n",
       "MO     15230.0\n",
       "MP        25.0\n",
       "MS     10396.0\n",
       "MT      3046.0\n",
       "NC     21781.0\n",
       "ND      2165.0\n",
       "NE      3435.0\n",
       "NH      2294.0\n",
       "NJ     30575.0\n",
       "NM      6467.0\n",
       "NV      9335.0\n",
       "NY     26941.0\n",
       "NYC    39417.0\n",
       "OH     31242.0\n",
       "OK     11769.0\n",
       "OR      6373.0\n",
       "PA     42247.0\n",
       "PR      4021.0\n",
       "PW         4.0\n",
       "RI      3388.0\n",
       "RMI        0.0\n",
       "SC     16241.0\n",
       "SD      2742.0\n",
       "TN     21303.0\n",
       "TX     81030.0\n",
       "UT      4290.0\n",
       "VA     17614.0\n",
       "VI       106.0\n",
       "VT       546.0\n",
       "WA     11373.0\n",
       "WI     12930.0\n",
       "WV      5840.0\n",
       "WY      1667.0\n",
       "Name: new_death, dtype: float64"
      ]
     },
     "execution_count": 16,
     "metadata": {},
     "output_type": "execute_result"
    }
   ],
   "source": [
    "#15. how many new death alltogether in each state -- using the new_death column (hint: use groupby and sum)\n"
   ]
  },
  {
   "cell_type": "code",
   "execution_count": 17,
   "metadata": {},
   "outputs": [
    {
     "data": {
      "text/plain": [
       "66358.0"
      ]
     },
     "execution_count": 17,
     "metadata": {},
     "output_type": "execute_result"
    }
   ],
   "source": [
    "#16. using your answer above, add NYC and NY to get total for NYS (or do it any other way --\n",
    "#we want total new_death in NYC)\n"
   ]
  },
  {
   "cell_type": "code",
   "execution_count": 18,
   "metadata": {},
   "outputs": [
    {
     "data": {
      "text/plain": [
       "state\n",
       "FL    67911.0\n",
       "CA    80848.0\n",
       "TX    81030.0\n",
       "Name: new_death, dtype: float64"
      ]
     },
     "execution_count": 18,
     "metadata": {},
     "output_type": "execute_result"
    }
   ],
   "source": [
    "#17. using your answer from the groupby above, which three states had the most new_deaths?\n",
    "#using slicing to get the last three from a sorted list\n"
   ]
  }
 ],
 "metadata": {
  "kernelspec": {
   "display_name": "Python 3 (ipykernel)",
   "language": "python",
   "name": "python3"
  },
  "language_info": {
   "codemirror_mode": {
    "name": "ipython",
    "version": 3
   },
   "file_extension": ".py",
   "mimetype": "text/x-python",
   "name": "python",
   "nbconvert_exporter": "python",
   "pygments_lexer": "ipython3",
   "version": "3.9.7"
  }
 },
 "nbformat": 4,
 "nbformat_minor": 4
}
