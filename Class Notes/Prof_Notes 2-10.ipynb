{
 "cells": [
  {
   "cell_type": "code",
   "execution_count": 1,
   "id": "913792f7",
   "metadata": {},
   "outputs": [],
   "source": [
    "seq = ['a', 'b', 'e', 'y']"
   ]
  },
  {
   "cell_type": "code",
   "execution_count": 2,
   "id": "e88b9a5c",
   "metadata": {},
   "outputs": [
    {
     "data": {
      "text/plain": [
       "['a', 'b', 'e', 'y']"
      ]
     },
     "execution_count": 2,
     "metadata": {},
     "output_type": "execute_result"
    }
   ],
   "source": [
    "seq"
   ]
  },
  {
   "cell_type": "code",
   "execution_count": 6,
   "id": "5241ce48",
   "metadata": {},
   "outputs": [
    {
     "name": "stdout",
     "output_type": "stream",
     "text": [
      "a\n",
      "b\n",
      "e\n",
      "y\n"
     ]
    }
   ],
   "source": [
    "#to print out all elements in the list seq\n",
    "for item in seq:\n",
    "    print(item)"
   ]
  },
  {
   "cell_type": "code",
   "execution_count": 7,
   "id": "566568aa",
   "metadata": {},
   "outputs": [],
   "source": [
    "courses = [('CSC245', 4), ('CSC115', 3)]"
   ]
  },
  {
   "cell_type": "code",
   "execution_count": 11,
   "id": "678bcaa0",
   "metadata": {},
   "outputs": [
    {
     "name": "stdout",
     "output_type": "stream",
     "text": [
      "CSC245 has the following credits 4\n",
      "CSC115 has the following credits 3\n"
     ]
    }
   ],
   "source": [
    "for a, b in courses:\n",
    "    print (a + ' has the following credits ' + str(b))"
   ]
  },
  {
   "cell_type": "markdown",
   "id": "f7e45921",
   "metadata": {},
   "source": [
    "numpy has a type:  ndarray which stored data efficiently"
   ]
  },
  {
   "cell_type": "code",
   "execution_count": 12,
   "id": "225c7a8f",
   "metadata": {},
   "outputs": [],
   "source": [
    "import numpy as np"
   ]
  },
  {
   "cell_type": "code",
   "execution_count": 13,
   "id": "c3476867",
   "metadata": {},
   "outputs": [],
   "source": [
    "# this will give me documentation\n",
    "np?"
   ]
  },
  {
   "cell_type": "code",
   "execution_count": 14,
   "id": "ab00c60e",
   "metadata": {},
   "outputs": [],
   "source": [
    "np.random.seed(0)"
   ]
  },
  {
   "cell_type": "code",
   "execution_count": 16,
   "id": "3f068bc0",
   "metadata": {},
   "outputs": [],
   "source": [
    "# if I don't want to use np.random each time\n",
    "from numpy import random"
   ]
  },
  {
   "cell_type": "code",
   "execution_count": 17,
   "id": "c20f5ab0",
   "metadata": {},
   "outputs": [],
   "source": [
    "#shift tab will give documentation\n",
    "x1 = random.randint(10, size= 6)"
   ]
  },
  {
   "cell_type": "code",
   "execution_count": 18,
   "id": "61e09e36",
   "metadata": {},
   "outputs": [
    {
     "data": {
      "text/plain": [
       "array([5, 0, 3, 3, 7, 9])"
      ]
     },
     "execution_count": 18,
     "metadata": {},
     "output_type": "execute_result"
    }
   ],
   "source": [
    "x1"
   ]
  },
  {
   "cell_type": "code",
   "execution_count": 19,
   "id": "8e5b9d69",
   "metadata": {},
   "outputs": [
    {
     "data": {
      "text/plain": [
       "numpy.ndarray"
      ]
     },
     "execution_count": 19,
     "metadata": {},
     "output_type": "execute_result"
    }
   ],
   "source": [
    "type(x1)"
   ]
  },
  {
   "cell_type": "code",
   "execution_count": 20,
   "id": "10389c65",
   "metadata": {},
   "outputs": [
    {
     "data": {
      "text/plain": [
       "1"
      ]
     },
     "execution_count": 20,
     "metadata": {},
     "output_type": "execute_result"
    }
   ],
   "source": [
    "x1.ndim"
   ]
  },
  {
   "cell_type": "code",
   "execution_count": 21,
   "id": "fddb02f5",
   "metadata": {},
   "outputs": [
    {
     "data": {
      "text/plain": [
       "(6,)"
      ]
     },
     "execution_count": 21,
     "metadata": {},
     "output_type": "execute_result"
    }
   ],
   "source": [
    "x1.shape"
   ]
  },
  {
   "cell_type": "code",
   "execution_count": 22,
   "id": "ca99eb98",
   "metadata": {},
   "outputs": [
    {
     "data": {
      "text/plain": [
       "6"
      ]
     },
     "execution_count": 22,
     "metadata": {},
     "output_type": "execute_result"
    }
   ],
   "source": [
    "x1.size"
   ]
  },
  {
   "cell_type": "code",
   "execution_count": 24,
   "id": "b2a957fb",
   "metadata": {},
   "outputs": [
    {
     "data": {
      "text/plain": [
       "6"
      ]
     },
     "execution_count": 24,
     "metadata": {},
     "output_type": "execute_result"
    }
   ],
   "source": [
    "len(x1)"
   ]
  },
  {
   "cell_type": "code",
   "execution_count": 26,
   "id": "cf6a9193",
   "metadata": {},
   "outputs": [],
   "source": [
    "x2 = random.randint(10, size = (3, 4))"
   ]
  },
  {
   "cell_type": "code",
   "execution_count": 27,
   "id": "29289e92",
   "metadata": {},
   "outputs": [
    {
     "data": {
      "text/plain": [
       "array([[3, 5, 2, 4],\n",
       "       [7, 6, 8, 8],\n",
       "       [1, 6, 7, 7]])"
      ]
     },
     "execution_count": 27,
     "metadata": {},
     "output_type": "execute_result"
    }
   ],
   "source": [
    "x2"
   ]
  },
  {
   "cell_type": "code",
   "execution_count": 34,
   "id": "dd23ee27",
   "metadata": {},
   "outputs": [
    {
     "data": {
      "text/plain": [
       "5"
      ]
     },
     "execution_count": 34,
     "metadata": {},
     "output_type": "execute_result"
    }
   ],
   "source": [
    "#x2[0][1]\n",
    "x2[0,1]"
   ]
  },
  {
   "cell_type": "code",
   "execution_count": 37,
   "id": "4f71e37f",
   "metadata": {},
   "outputs": [
    {
     "data": {
      "text/plain": [
       "array([7, 6, 8, 8])"
      ]
     },
     "execution_count": 37,
     "metadata": {},
     "output_type": "execute_result"
    }
   ],
   "source": [
    "x2[1]"
   ]
  },
  {
   "cell_type": "code",
   "execution_count": 28,
   "id": "b8b1a3b9",
   "metadata": {},
   "outputs": [
    {
     "data": {
      "text/plain": [
       "numpy.ndarray"
      ]
     },
     "execution_count": 28,
     "metadata": {},
     "output_type": "execute_result"
    }
   ],
   "source": [
    "type(x2)"
   ]
  },
  {
   "cell_type": "code",
   "execution_count": 29,
   "id": "2f473a04",
   "metadata": {},
   "outputs": [
    {
     "data": {
      "text/plain": [
       "12"
      ]
     },
     "execution_count": 29,
     "metadata": {},
     "output_type": "execute_result"
    }
   ],
   "source": [
    "x2.size"
   ]
  },
  {
   "cell_type": "code",
   "execution_count": 30,
   "id": "8a95691c",
   "metadata": {},
   "outputs": [
    {
     "data": {
      "text/plain": [
       "3"
      ]
     },
     "execution_count": 30,
     "metadata": {},
     "output_type": "execute_result"
    }
   ],
   "source": [
    "len(x2)"
   ]
  },
  {
   "cell_type": "code",
   "execution_count": 31,
   "id": "bd5a450b",
   "metadata": {},
   "outputs": [
    {
     "data": {
      "text/plain": [
       "2"
      ]
     },
     "execution_count": 31,
     "metadata": {},
     "output_type": "execute_result"
    }
   ],
   "source": [
    "x2.ndim"
   ]
  },
  {
   "cell_type": "code",
   "execution_count": 32,
   "id": "3c611700",
   "metadata": {},
   "outputs": [
    {
     "data": {
      "text/plain": [
       "dtype('int32')"
      ]
     },
     "execution_count": 32,
     "metadata": {},
     "output_type": "execute_result"
    }
   ],
   "source": [
    "x2.dtype"
   ]
  },
  {
   "cell_type": "code",
   "execution_count": 38,
   "id": "517459fe",
   "metadata": {},
   "outputs": [
    {
     "data": {
      "text/plain": [
       "array([5, 0, 3, 3, 7, 9])"
      ]
     },
     "execution_count": 38,
     "metadata": {},
     "output_type": "execute_result"
    }
   ],
   "source": [
    "#slicing \n",
    "x1"
   ]
  },
  {
   "cell_type": "code",
   "execution_count": 39,
   "id": "08f38f6c",
   "metadata": {},
   "outputs": [
    {
     "data": {
      "text/plain": [
       "array([0, 3, 3, 7, 9])"
      ]
     },
     "execution_count": 39,
     "metadata": {},
     "output_type": "execute_result"
    }
   ],
   "source": [
    "x1[1:]"
   ]
  },
  {
   "cell_type": "code",
   "execution_count": 40,
   "id": "595f9c1d",
   "metadata": {},
   "outputs": [
    {
     "data": {
      "text/plain": [
       "array([[3, 5, 2, 4],\n",
       "       [7, 6, 8, 8],\n",
       "       [1, 6, 7, 7]])"
      ]
     },
     "execution_count": 40,
     "metadata": {},
     "output_type": "execute_result"
    }
   ],
   "source": [
    "x2"
   ]
  },
  {
   "cell_type": "code",
   "execution_count": 42,
   "id": "ce0eee9a",
   "metadata": {},
   "outputs": [
    {
     "data": {
      "text/plain": [
       "array([[8, 8],\n",
       "       [7, 7]])"
      ]
     },
     "execution_count": 42,
     "metadata": {},
     "output_type": "execute_result"
    }
   ],
   "source": [
    "x2[1:,2:]"
   ]
  },
  {
   "cell_type": "code",
   "execution_count": 43,
   "id": "715d6536",
   "metadata": {},
   "outputs": [],
   "source": [
    "x3 = random.randint(10, size = (5, 7))"
   ]
  },
  {
   "cell_type": "code",
   "execution_count": 44,
   "id": "0532a103",
   "metadata": {},
   "outputs": [
    {
     "data": {
      "text/plain": [
       "array([[8, 1, 5, 9, 8, 9, 4],\n",
       "       [3, 0, 3, 5, 0, 2, 3],\n",
       "       [8, 1, 3, 3, 3, 7, 0],\n",
       "       [1, 9, 9, 0, 4, 7, 3],\n",
       "       [2, 7, 2, 0, 0, 4, 5]])"
      ]
     },
     "execution_count": 44,
     "metadata": {},
     "output_type": "execute_result"
    }
   ],
   "source": [
    "x3"
   ]
  },
  {
   "cell_type": "code",
   "execution_count": 46,
   "id": "f095c2a4",
   "metadata": {},
   "outputs": [],
   "source": [
    "#slicing as per example during class\n",
    "#slicing gives a view not its own copy\n",
    "slice_of_x3 = x3[1:3,2:5]"
   ]
  },
  {
   "cell_type": "code",
   "execution_count": 47,
   "id": "00470100",
   "metadata": {},
   "outputs": [
    {
     "data": {
      "text/plain": [
       "array([[3, 5, 0],\n",
       "       [3, 3, 3]])"
      ]
     },
     "execution_count": 47,
     "metadata": {},
     "output_type": "execute_result"
    }
   ],
   "source": [
    "slice_of_x3"
   ]
  },
  {
   "cell_type": "code",
   "execution_count": 50,
   "id": "e388b3b8",
   "metadata": {},
   "outputs": [],
   "source": [
    "slice_of_x3[0,1] = -100"
   ]
  },
  {
   "cell_type": "code",
   "execution_count": 51,
   "id": "575df212",
   "metadata": {},
   "outputs": [
    {
     "data": {
      "text/plain": [
       "array([[   3, -100,    0],\n",
       "       [   3,    3,    3]])"
      ]
     },
     "execution_count": 51,
     "metadata": {},
     "output_type": "execute_result"
    }
   ],
   "source": [
    "slice_of_x3"
   ]
  },
  {
   "cell_type": "code",
   "execution_count": 52,
   "id": "48449c89",
   "metadata": {},
   "outputs": [
    {
     "data": {
      "text/plain": [
       "array([[   8,    1,    5,    9,    8,    9,    4],\n",
       "       [   3,    0,    3, -100,    0,    2,    3],\n",
       "       [   8,    1,    3,    3,    3,    7,    0],\n",
       "       [   1,    9,    9,    0,    4,    7,    3],\n",
       "       [   2,    7,    2,    0,    0,    4,    5]])"
      ]
     },
     "execution_count": 52,
     "metadata": {},
     "output_type": "execute_result"
    }
   ],
   "source": [
    "x3"
   ]
  },
  {
   "cell_type": "code",
   "execution_count": 53,
   "id": "440dfbd1",
   "metadata": {},
   "outputs": [],
   "source": [
    "piece_of_x3 = x3[1:3,2:5].copy()"
   ]
  },
  {
   "cell_type": "code",
   "execution_count": 54,
   "id": "2f571ea8",
   "metadata": {},
   "outputs": [
    {
     "data": {
      "text/plain": [
       "array([[   3, -100,    0],\n",
       "       [   3,    3,    3]])"
      ]
     },
     "execution_count": 54,
     "metadata": {},
     "output_type": "execute_result"
    }
   ],
   "source": [
    "piece_of_x3"
   ]
  },
  {
   "cell_type": "code",
   "execution_count": null,
   "id": "bb1fa5a8",
   "metadata": {},
   "outputs": [],
   "source": [
    "#create a one dimensional numpy array with 15 elements\n",
    "#using randint  with randintegers taken from from 5 to 25 \n",
    "#(including 25)"
   ]
  },
  {
   "cell_type": "code",
   "execution_count": 55,
   "id": "04b55432",
   "metadata": {},
   "outputs": [],
   "source": [
    "x5 = random.randint(5,26,size = 15)"
   ]
  },
  {
   "cell_type": "code",
   "execution_count": 56,
   "id": "22c3cb03",
   "metadata": {},
   "outputs": [
    {
     "data": {
      "text/plain": [
       "array([10, 11, 13, 25, 22, 20,  9, 14, 15,  6,  6, 12, 14,  8, 11])"
      ]
     },
     "execution_count": 56,
     "metadata": {},
     "output_type": "execute_result"
    }
   ],
   "source": [
    "x5"
   ]
  },
  {
   "cell_type": "code",
   "execution_count": 57,
   "id": "67c7efa7",
   "metadata": {},
   "outputs": [],
   "source": [
    "zeros = np.zeros(16)"
   ]
  },
  {
   "cell_type": "code",
   "execution_count": 58,
   "id": "c65a2a35",
   "metadata": {},
   "outputs": [],
   "source": [
    "ones = np.ones(5)"
   ]
  },
  {
   "cell_type": "code",
   "execution_count": 59,
   "id": "845608ee",
   "metadata": {},
   "outputs": [
    {
     "data": {
      "text/plain": [
       "array([0., 0., 0., 0., 0., 0., 0., 0., 0., 0., 0., 0., 0., 0., 0., 0.])"
      ]
     },
     "execution_count": 59,
     "metadata": {},
     "output_type": "execute_result"
    }
   ],
   "source": [
    "zeros"
   ]
  },
  {
   "cell_type": "code",
   "execution_count": 60,
   "id": "bfab977d",
   "metadata": {},
   "outputs": [
    {
     "data": {
      "text/plain": [
       "array([1., 1., 1., 1., 1.])"
      ]
     },
     "execution_count": 60,
     "metadata": {},
     "output_type": "execute_result"
    }
   ],
   "source": [
    "ones"
   ]
  },
  {
   "cell_type": "code",
   "execution_count": 61,
   "id": "ac15d8fc",
   "metadata": {},
   "outputs": [
    {
     "data": {
      "text/plain": [
       "dtype('float64')"
      ]
     },
     "execution_count": 61,
     "metadata": {},
     "output_type": "execute_result"
    }
   ],
   "source": [
    "ones.dtype"
   ]
  },
  {
   "cell_type": "code",
   "execution_count": 62,
   "id": "bed06527",
   "metadata": {},
   "outputs": [],
   "source": [
    "nums = np.arange(40,50)"
   ]
  },
  {
   "cell_type": "code",
   "execution_count": 66,
   "id": "38a382bb",
   "metadata": {},
   "outputs": [
    {
     "data": {
      "text/plain": [
       "dtype('int32')"
      ]
     },
     "execution_count": 66,
     "metadata": {},
     "output_type": "execute_result"
    }
   ],
   "source": [
    "nums.dtype"
   ]
  },
  {
   "cell_type": "code",
   "execution_count": 67,
   "id": "5d7f1187",
   "metadata": {},
   "outputs": [
    {
     "data": {
      "text/plain": [
       "dtype('int32')"
      ]
     },
     "execution_count": 67,
     "metadata": {},
     "output_type": "execute_result"
    }
   ],
   "source": [
    "x1.dtype"
   ]
  },
  {
   "cell_type": "code",
   "execution_count": 70,
   "id": "d7cceadc",
   "metadata": {
    "scrolled": true
   },
   "outputs": [
    {
     "data": {
      "text/plain": [
       "array([40, 41, 42, 43, 44, 45, 46, 47, 48, 49,  5,  0,  3,  3,  7,  9])"
      ]
     },
     "execution_count": 70,
     "metadata": {},
     "output_type": "execute_result"
    }
   ],
   "source": [
    "np.concatenate((nums, x1))"
   ]
  },
  {
   "cell_type": "code",
   "execution_count": 93,
   "id": "679133b0",
   "metadata": {},
   "outputs": [
    {
     "data": {
      "text/plain": [
       "array([[3, 5, 2, 4],\n",
       "       [7, 6, 8, 8],\n",
       "       [1, 6, 7, 7]])"
      ]
     },
     "execution_count": 93,
     "metadata": {},
     "output_type": "execute_result"
    }
   ],
   "source": [
    " x2"
   ]
  },
  {
   "cell_type": "code",
   "execution_count": 94,
   "id": "42859571",
   "metadata": {},
   "outputs": [],
   "source": [
    "x6 = random.randint(10,size = (2,4))"
   ]
  },
  {
   "cell_type": "code",
   "execution_count": 95,
   "id": "23a364f0",
   "metadata": {},
   "outputs": [
    {
     "data": {
      "text/plain": [
       "array([[7, 5, 9, 0],\n",
       "       [2, 7, 2, 9]])"
      ]
     },
     "execution_count": 95,
     "metadata": {},
     "output_type": "execute_result"
    }
   ],
   "source": [
    "x6"
   ]
  },
  {
   "cell_type": "code",
   "execution_count": 97,
   "id": "e80c8817",
   "metadata": {},
   "outputs": [
    {
     "data": {
      "text/plain": [
       "array([[3, 5, 2, 4],\n",
       "       [7, 6, 8, 8],\n",
       "       [1, 6, 7, 7],\n",
       "       [7, 5, 9, 0],\n",
       "       [2, 7, 2, 9]])"
      ]
     },
     "execution_count": 97,
     "metadata": {},
     "output_type": "execute_result"
    }
   ],
   "source": [
    "np.concatenate((x2, x6))"
   ]
  },
  {
   "cell_type": "code",
   "execution_count": 101,
   "id": "6f2a0922",
   "metadata": {},
   "outputs": [
    {
     "data": {
      "text/plain": [
       "array([[3, 5, 2, 4],\n",
       "       [7, 6, 8, 8],\n",
       "       [1, 6, 7, 7]])"
      ]
     },
     "execution_count": 101,
     "metadata": {},
     "output_type": "execute_result"
    }
   ],
   "source": [
    "x2"
   ]
  },
  {
   "cell_type": "code",
   "execution_count": 99,
   "id": "906a7ce7",
   "metadata": {},
   "outputs": [],
   "source": [
    "x6 = random.randint(10,size = (3,8))\n"
   ]
  },
  {
   "cell_type": "code",
   "execution_count": 100,
   "id": "c4c8aec2",
   "metadata": {},
   "outputs": [
    {
     "data": {
      "text/plain": [
       "array([[8, 2, 3, 2, 0, 8, 8, 3],\n",
       "       [8, 2, 8, 4, 3, 0, 4, 3],\n",
       "       [6, 9, 8, 0, 8, 5, 9, 0]])"
      ]
     },
     "execution_count": 100,
     "metadata": {},
     "output_type": "execute_result"
    }
   ],
   "source": [
    "x6"
   ]
  },
  {
   "cell_type": "code",
   "execution_count": 103,
   "id": "f42e970c",
   "metadata": {},
   "outputs": [
    {
     "data": {
      "text/plain": [
       "array([[3, 5, 2, 4, 8, 2, 3, 2, 0, 8, 8, 3],\n",
       "       [7, 6, 8, 8, 8, 2, 8, 4, 3, 0, 4, 3],\n",
       "       [1, 6, 7, 7, 6, 9, 8, 0, 8, 5, 9, 0]])"
      ]
     },
     "execution_count": 103,
     "metadata": {},
     "output_type": "execute_result"
    }
   ],
   "source": [
    "np.concatenate((x2, x6), axis = 1)"
   ]
  },
  {
   "cell_type": "code",
   "execution_count": 104,
   "id": "b3d08115",
   "metadata": {},
   "outputs": [
    {
     "data": {
      "text/plain": [
       "array([5, 0, 3, 3, 7, 9])"
      ]
     },
     "execution_count": 104,
     "metadata": {},
     "output_type": "execute_result"
    }
   ],
   "source": [
    "x1"
   ]
  },
  {
   "cell_type": "code",
   "execution_count": 105,
   "id": "4941a91c",
   "metadata": {},
   "outputs": [],
   "source": [
    "#universal functions"
   ]
  },
  {
   "cell_type": "code",
   "execution_count": 107,
   "id": "fed685d6",
   "metadata": {},
   "outputs": [
    {
     "data": {
      "text/plain": [
       "array([25,  0,  9,  9, 49, 81], dtype=int32)"
      ]
     },
     "execution_count": 107,
     "metadata": {},
     "output_type": "execute_result"
    }
   ],
   "source": [
    "x1** 2"
   ]
  },
  {
   "cell_type": "code",
   "execution_count": 108,
   "id": "1b9b1b60",
   "metadata": {},
   "outputs": [
    {
     "data": {
      "text/plain": [
       "27"
      ]
     },
     "execution_count": 108,
     "metadata": {},
     "output_type": "execute_result"
    }
   ],
   "source": [
    "#summary statistics\n",
    "x1.sum()"
   ]
  },
  {
   "cell_type": "code",
   "execution_count": 109,
   "id": "2a950c05",
   "metadata": {},
   "outputs": [
    {
     "data": {
      "text/plain": [
       "4.5"
      ]
     },
     "execution_count": 109,
     "metadata": {},
     "output_type": "execute_result"
    }
   ],
   "source": [
    "x1.mean()"
   ]
  },
  {
   "cell_type": "code",
   "execution_count": 110,
   "id": "2d45fb5e",
   "metadata": {},
   "outputs": [
    {
     "data": {
      "text/plain": [
       "0"
      ]
     },
     "execution_count": 110,
     "metadata": {},
     "output_type": "execute_result"
    }
   ],
   "source": [
    "x1.min()"
   ]
  },
  {
   "cell_type": "code",
   "execution_count": 111,
   "id": "21278206",
   "metadata": {},
   "outputs": [
    {
     "data": {
      "text/plain": [
       "9"
      ]
     },
     "execution_count": 111,
     "metadata": {},
     "output_type": "execute_result"
    }
   ],
   "source": [
    "x1.max()"
   ]
  },
  {
   "cell_type": "code",
   "execution_count": 112,
   "id": "ed8df128",
   "metadata": {},
   "outputs": [
    {
     "data": {
      "text/plain": [
       "9"
      ]
     },
     "execution_count": 112,
     "metadata": {},
     "output_type": "execute_result"
    }
   ],
   "source": [
    "np.max(x1)"
   ]
  },
  {
   "cell_type": "code",
   "execution_count": 113,
   "id": "9e841f30",
   "metadata": {},
   "outputs": [
    {
     "data": {
      "text/plain": [
       "4.0"
      ]
     },
     "execution_count": 113,
     "metadata": {},
     "output_type": "execute_result"
    }
   ],
   "source": [
    "np.median(x1)"
   ]
  },
  {
   "cell_type": "code",
   "execution_count": 116,
   "id": "e849d958",
   "metadata": {},
   "outputs": [
    {
     "data": {
      "text/plain": [
       "array([5, 0, 3, 3, 7, 9])"
      ]
     },
     "execution_count": 116,
     "metadata": {},
     "output_type": "execute_result"
    }
   ],
   "source": [
    "x1"
   ]
  },
  {
   "cell_type": "code",
   "execution_count": 117,
   "id": "0e2f58f3",
   "metadata": {},
   "outputs": [
    {
     "data": {
      "text/plain": [
       "4.5"
      ]
     },
     "execution_count": 117,
     "metadata": {},
     "output_type": "execute_result"
    }
   ],
   "source": [
    "x1.mean()"
   ]
  },
  {
   "cell_type": "code",
   "execution_count": 118,
   "id": "4df17e10",
   "metadata": {},
   "outputs": [
    {
     "data": {
      "text/plain": [
       "array([[3, 5, 2, 4],\n",
       "       [7, 6, 8, 8],\n",
       "       [1, 6, 7, 7]])"
      ]
     },
     "execution_count": 118,
     "metadata": {},
     "output_type": "execute_result"
    }
   ],
   "source": [
    "x2\n"
   ]
  },
  {
   "cell_type": "code",
   "execution_count": 127,
   "id": "d212c59f",
   "metadata": {},
   "outputs": [
    {
     "data": {
      "text/plain": [
       "array([14, 29, 21])"
      ]
     },
     "execution_count": 127,
     "metadata": {},
     "output_type": "execute_result"
    }
   ],
   "source": [
    "#axis is which dimension is collapsed\n",
    "np.sum(x2, axis = 1)"
   ]
  },
  {
   "cell_type": "code",
   "execution_count": 128,
   "id": "7cdad177",
   "metadata": {},
   "outputs": [
    {
     "data": {
      "text/plain": [
       "array([[3, 5, 2, 4],\n",
       "       [7, 6, 8, 8],\n",
       "       [1, 6, 7, 7]])"
      ]
     },
     "execution_count": 128,
     "metadata": {},
     "output_type": "execute_result"
    }
   ],
   "source": [
    "x2"
   ]
  },
  {
   "cell_type": "code",
   "execution_count": 129,
   "id": "c2df4f99",
   "metadata": {},
   "outputs": [
    {
     "data": {
      "text/plain": [
       "array([[8, 2, 3, 2, 0, 8, 8, 3],\n",
       "       [8, 2, 8, 4, 3, 0, 4, 3],\n",
       "       [6, 9, 8, 0, 8, 5, 9, 0]])"
      ]
     },
     "execution_count": 129,
     "metadata": {},
     "output_type": "execute_result"
    }
   ],
   "source": [
    "x6"
   ]
  },
  {
   "cell_type": "code",
   "execution_count": 133,
   "id": "d9955916",
   "metadata": {},
   "outputs": [
    {
     "data": {
      "text/plain": [
       "numpy.ndarray"
      ]
     },
     "execution_count": 133,
     "metadata": {},
     "output_type": "execute_result"
    }
   ],
   "source": [
    "#minimum in the middle row\n",
    "type(x6[1])"
   ]
  },
  {
   "cell_type": "code",
   "execution_count": 134,
   "id": "2d558cf5",
   "metadata": {},
   "outputs": [],
   "source": [
    "minnum = np.min(x6[1])"
   ]
  },
  {
   "cell_type": "code",
   "execution_count": 144,
   "id": "a04bce47",
   "metadata": {},
   "outputs": [
    {
     "data": {
      "text/plain": [
       "45"
      ]
     },
     "execution_count": 144,
     "metadata": {},
     "output_type": "execute_result"
    }
   ],
   "source": [
    "#largest row sum\n",
    "np.max(np.sum(x6, axis = 1))"
   ]
  },
  {
   "cell_type": "code",
   "execution_count": 138,
   "id": "4bef2642",
   "metadata": {},
   "outputs": [
    {
     "data": {
      "text/plain": [
       "array([34, 32, 45])"
      ]
     },
     "execution_count": 138,
     "metadata": {},
     "output_type": "execute_result"
    }
   ],
   "source": [
    "np.sum(x6, axis = 1)"
   ]
  },
  {
   "cell_type": "code",
   "execution_count": 140,
   "id": "2de38b8a",
   "metadata": {},
   "outputs": [
    {
     "data": {
      "text/plain": [
       "numpy.int32"
      ]
     },
     "execution_count": 140,
     "metadata": {},
     "output_type": "execute_result"
    }
   ],
   "source": [
    "type(np.sum(x6))"
   ]
  },
  {
   "cell_type": "code",
   "execution_count": 145,
   "id": "97b95284",
   "metadata": {},
   "outputs": [
    {
     "data": {
      "text/plain": [
       "array([5, 0, 3, 3, 7, 9])"
      ]
     },
     "execution_count": 145,
     "metadata": {},
     "output_type": "execute_result"
    }
   ],
   "source": [
    "x1"
   ]
  },
  {
   "cell_type": "code",
   "execution_count": 146,
   "id": "a1eb8896",
   "metadata": {},
   "outputs": [
    {
     "data": {
      "text/plain": [
       "array([ True, False, False, False,  True,  True])"
      ]
     },
     "execution_count": 146,
     "metadata": {},
     "output_type": "execute_result"
    }
   ],
   "source": [
    "x1 > 3"
   ]
  },
  {
   "cell_type": "code",
   "execution_count": 147,
   "id": "7b2e074d",
   "metadata": {},
   "outputs": [
    {
     "data": {
      "text/plain": [
       "array([ True, False,  True,  True,  True,  True])"
      ]
     },
     "execution_count": 147,
     "metadata": {},
     "output_type": "execute_result"
    }
   ],
   "source": [
    "x1 % 2 == 1"
   ]
  },
  {
   "cell_type": "code",
   "execution_count": 148,
   "id": "36d7563e",
   "metadata": {},
   "outputs": [
    {
     "data": {
      "text/plain": [
       "array([5, 3, 3, 7, 9])"
      ]
     },
     "execution_count": 148,
     "metadata": {},
     "output_type": "execute_result"
    }
   ],
   "source": [
    "x1[x1 % 2 == 1]"
   ]
  },
  {
   "cell_type": "code",
   "execution_count": 149,
   "id": "50d05e24",
   "metadata": {},
   "outputs": [
    {
     "data": {
      "text/plain": [
       "array([[8, 2, 3, 2, 0, 8, 8, 3],\n",
       "       [8, 2, 8, 4, 3, 0, 4, 3],\n",
       "       [6, 9, 8, 0, 8, 5, 9, 0]])"
      ]
     },
     "execution_count": 149,
     "metadata": {},
     "output_type": "execute_result"
    }
   ],
   "source": [
    "x6"
   ]
  },
  {
   "cell_type": "code",
   "execution_count": 150,
   "id": "366729a3",
   "metadata": {},
   "outputs": [
    {
     "data": {
      "text/plain": [
       "array([5, 0, 3, 3, 7, 9])"
      ]
     },
     "execution_count": 150,
     "metadata": {},
     "output_type": "execute_result"
    }
   ],
   "source": [
    "x1"
   ]
  },
  {
   "cell_type": "code",
   "execution_count": 152,
   "id": "29eddb73",
   "metadata": {},
   "outputs": [
    {
     "data": {
      "text/plain": [
       "4"
      ]
     },
     "execution_count": 152,
     "metadata": {},
     "output_type": "execute_result"
    }
   ],
   "source": [
    "len(x1[x1 % 3 == 0])"
   ]
  },
  {
   "cell_type": "code",
   "execution_count": null,
   "id": "19de5606",
   "metadata": {},
   "outputs": [],
   "source": []
  }
 ],
 "metadata": {
  "kernelspec": {
   "display_name": "Python 3",
   "language": "python",
   "name": "python3"
  },
  "language_info": {
   "codemirror_mode": {
    "name": "ipython",
    "version": 3
   },
   "file_extension": ".py",
   "mimetype": "text/x-python",
   "name": "python",
   "nbconvert_exporter": "python",
   "pygments_lexer": "ipython3",
   "version": "3.8.8"
  }
 },
 "nbformat": 4,
 "nbformat_minor": 5
}
