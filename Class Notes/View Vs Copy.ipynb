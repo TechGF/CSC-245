{
 "cells": [
  {
   "cell_type": "code",
   "execution_count": 35,
   "id": "74e3d6a1",
   "metadata": {},
   "outputs": [],
   "source": [
    "import numpy as np\n",
    "import pandas as pd\n",
    "pres = pd.read_csv(\"..\\\\..\\\\Documents\\\\Teaching\\\\CSC 245\\\\data\\\\Presidents\\\\president_heights.csv\")"
   ]
  },
  {
   "cell_type": "code",
   "execution_count": null,
   "id": "7577f10c",
   "metadata": {},
   "outputs": [],
   "source": []
  },
  {
   "cell_type": "code",
   "execution_count": 4,
   "id": "09f1b007",
   "metadata": {},
   "outputs": [
    {
     "data": {
      "text/html": [
       "<div>\n",
       "<style scoped>\n",
       "    .dataframe tbody tr th:only-of-type {\n",
       "        vertical-align: middle;\n",
       "    }\n",
       "\n",
       "    .dataframe tbody tr th {\n",
       "        vertical-align: top;\n",
       "    }\n",
       "\n",
       "    .dataframe thead th {\n",
       "        text-align: right;\n",
       "    }\n",
       "</style>\n",
       "<table border=\"1\" class=\"dataframe\">\n",
       "  <thead>\n",
       "    <tr style=\"text-align: right;\">\n",
       "      <th></th>\n",
       "      <th>order</th>\n",
       "      <th>name</th>\n",
       "      <th>height(cm)</th>\n",
       "    </tr>\n",
       "  </thead>\n",
       "  <tbody>\n",
       "    <tr>\n",
       "      <th>0</th>\n",
       "      <td>1</td>\n",
       "      <td>George Washington</td>\n",
       "      <td>189</td>\n",
       "    </tr>\n",
       "    <tr>\n",
       "      <th>1</th>\n",
       "      <td>2</td>\n",
       "      <td>John Adams</td>\n",
       "      <td>170</td>\n",
       "    </tr>\n",
       "    <tr>\n",
       "      <th>2</th>\n",
       "      <td>3</td>\n",
       "      <td>Thomas Jefferson</td>\n",
       "      <td>189</td>\n",
       "    </tr>\n",
       "    <tr>\n",
       "      <th>3</th>\n",
       "      <td>4</td>\n",
       "      <td>James Madison</td>\n",
       "      <td>163</td>\n",
       "    </tr>\n",
       "    <tr>\n",
       "      <th>4</th>\n",
       "      <td>5</td>\n",
       "      <td>James Monroe</td>\n",
       "      <td>183</td>\n",
       "    </tr>\n",
       "  </tbody>\n",
       "</table>\n",
       "</div>"
      ],
      "text/plain": [
       "   order               name  height(cm)\n",
       "0      1  George Washington         189\n",
       "1      2         John Adams         170\n",
       "2      3   Thomas Jefferson         189\n",
       "3      4      James Madison         163\n",
       "4      5       James Monroe         183"
      ]
     },
     "execution_count": 4,
     "metadata": {},
     "output_type": "execute_result"
    }
   ],
   "source": [
    "pres.head()"
   ]
  },
  {
   "cell_type": "code",
   "execution_count": 5,
   "id": "e87196fa",
   "metadata": {},
   "outputs": [],
   "source": [
    "#pres.loc[pres['height(cm)'] > 188, 'name'] = 'Junk'"
   ]
  },
  {
   "cell_type": "code",
   "execution_count": 8,
   "id": "687017be",
   "metadata": {},
   "outputs": [],
   "source": [
    "#pres['name'] == 'Junk'"
   ]
  },
  {
   "cell_type": "code",
   "execution_count": 5,
   "id": "c41b18d0",
   "metadata": {},
   "outputs": [
    {
     "data": {
      "text/plain": [
       "'Thomas Jefferson'"
      ]
     },
     "execution_count": 5,
     "metadata": {},
     "output_type": "execute_result"
    }
   ],
   "source": [
    "pres.loc[2,'name']"
   ]
  },
  {
   "cell_type": "code",
   "execution_count": 6,
   "id": "974106c9",
   "metadata": {},
   "outputs": [
    {
     "data": {
      "text/plain": [
       "189"
      ]
     },
     "execution_count": 6,
     "metadata": {},
     "output_type": "execute_result"
    }
   ],
   "source": [
    "pres.iloc[2, 2]"
   ]
  },
  {
   "cell_type": "code",
   "execution_count": 7,
   "id": "94852dc5",
   "metadata": {},
   "outputs": [],
   "source": [
    "pres.loc[2, 'name'] = 'Junk'"
   ]
  },
  {
   "cell_type": "code",
   "execution_count": 8,
   "id": "aef579a2",
   "metadata": {},
   "outputs": [
    {
     "data": {
      "text/html": [
       "<div>\n",
       "<style scoped>\n",
       "    .dataframe tbody tr th:only-of-type {\n",
       "        vertical-align: middle;\n",
       "    }\n",
       "\n",
       "    .dataframe tbody tr th {\n",
       "        vertical-align: top;\n",
       "    }\n",
       "\n",
       "    .dataframe thead th {\n",
       "        text-align: right;\n",
       "    }\n",
       "</style>\n",
       "<table border=\"1\" class=\"dataframe\">\n",
       "  <thead>\n",
       "    <tr style=\"text-align: right;\">\n",
       "      <th></th>\n",
       "      <th>order</th>\n",
       "      <th>name</th>\n",
       "      <th>height(cm)</th>\n",
       "    </tr>\n",
       "  </thead>\n",
       "  <tbody>\n",
       "    <tr>\n",
       "      <th>0</th>\n",
       "      <td>1</td>\n",
       "      <td>George Washington</td>\n",
       "      <td>189</td>\n",
       "    </tr>\n",
       "    <tr>\n",
       "      <th>1</th>\n",
       "      <td>2</td>\n",
       "      <td>John Adams</td>\n",
       "      <td>170</td>\n",
       "    </tr>\n",
       "    <tr>\n",
       "      <th>2</th>\n",
       "      <td>3</td>\n",
       "      <td>Junk</td>\n",
       "      <td>189</td>\n",
       "    </tr>\n",
       "    <tr>\n",
       "      <th>3</th>\n",
       "      <td>4</td>\n",
       "      <td>James Madison</td>\n",
       "      <td>163</td>\n",
       "    </tr>\n",
       "    <tr>\n",
       "      <th>4</th>\n",
       "      <td>5</td>\n",
       "      <td>James Monroe</td>\n",
       "      <td>183</td>\n",
       "    </tr>\n",
       "  </tbody>\n",
       "</table>\n",
       "</div>"
      ],
      "text/plain": [
       "   order               name  height(cm)\n",
       "0      1  George Washington         189\n",
       "1      2         John Adams         170\n",
       "2      3               Junk         189\n",
       "3      4      James Madison         163\n",
       "4      5       James Monroe         183"
      ]
     },
     "execution_count": 8,
     "metadata": {},
     "output_type": "execute_result"
    }
   ],
   "source": [
    "pres.head()"
   ]
  },
  {
   "cell_type": "code",
   "execution_count": 9,
   "id": "c54f3440",
   "metadata": {},
   "outputs": [],
   "source": [
    "tall_names = pres.loc[pres['height(cm)'] > 188, 'name']"
   ]
  },
  {
   "cell_type": "code",
   "execution_count": 10,
   "id": "fdb43bec",
   "metadata": {},
   "outputs": [
    {
     "data": {
      "text/plain": [
       "0     George Washington\n",
       "2                  Junk\n",
       "15      Abraham Lincoln\n",
       "33    Lyndon B. Johnson\n",
       "42         Donald Trump\n",
       "Name: name, dtype: object"
      ]
     },
     "execution_count": 10,
     "metadata": {},
     "output_type": "execute_result"
    }
   ],
   "source": [
    "tall_names"
   ]
  },
  {
   "cell_type": "code",
   "execution_count": 11,
   "id": "93c7efdb",
   "metadata": {},
   "outputs": [
    {
     "data": {
      "text/plain": [
       "'George Washington'"
      ]
     },
     "execution_count": 11,
     "metadata": {},
     "output_type": "execute_result"
    }
   ],
   "source": [
    "tall_names[0]"
   ]
  },
  {
   "cell_type": "code",
   "execution_count": 12,
   "id": "dca36876",
   "metadata": {},
   "outputs": [],
   "source": [
    "tall_names[0] = 'NewJunk'"
   ]
  },
  {
   "cell_type": "code",
   "execution_count": 13,
   "id": "eee9663c",
   "metadata": {},
   "outputs": [
    {
     "data": {
      "text/plain": [
       "0               NewJunk\n",
       "2                  Junk\n",
       "15      Abraham Lincoln\n",
       "33    Lyndon B. Johnson\n",
       "42         Donald Trump\n",
       "Name: name, dtype: object"
      ]
     },
     "execution_count": 13,
     "metadata": {},
     "output_type": "execute_result"
    }
   ],
   "source": [
    "tall_names"
   ]
  },
  {
   "cell_type": "code",
   "execution_count": 20,
   "id": "8e5d8227",
   "metadata": {},
   "outputs": [],
   "source": [
    "short_names = pres[pres['height(cm)']< 170]['name']"
   ]
  },
  {
   "cell_type": "code",
   "execution_count": 21,
   "id": "d202af4f",
   "metadata": {},
   "outputs": [
    {
     "data": {
      "text/plain": [
       "3         James Madison\n",
       "7      Martin Van Buren\n",
       "21    Benjamin Harrison\n",
       "Name: name, dtype: object"
      ]
     },
     "execution_count": 21,
     "metadata": {},
     "output_type": "execute_result"
    }
   ],
   "source": [
    "short_names"
   ]
  },
  {
   "cell_type": "code",
   "execution_count": 22,
   "id": "6abb6ee8",
   "metadata": {},
   "outputs": [
    {
     "name": "stderr",
     "output_type": "stream",
     "text": [
      "C:\\Users\\sarah\\AppData\\Local\\Temp/ipykernel_10056/3981549646.py:1: SettingWithCopyWarning: \n",
      "A value is trying to be set on a copy of a slice from a DataFrame\n",
      "\n",
      "See the caveats in the documentation: https://pandas.pydata.org/pandas-docs/stable/user_guide/indexing.html#returning-a-view-versus-a-copy\n",
      "  short_names[3] = 'NewerJunk'\n"
     ]
    }
   ],
   "source": [
    "short_names[3] = 'NewerJunk'"
   ]
  },
  {
   "cell_type": "code",
   "execution_count": 23,
   "id": "d8483901",
   "metadata": {},
   "outputs": [
    {
     "data": {
      "text/plain": [
       "3             NewerJunk\n",
       "7      Martin Van Buren\n",
       "21    Benjamin Harrison\n",
       "Name: name, dtype: object"
      ]
     },
     "execution_count": 23,
     "metadata": {},
     "output_type": "execute_result"
    }
   ],
   "source": [
    "short_names"
   ]
  },
  {
   "cell_type": "code",
   "execution_count": 24,
   "id": "d7b111f8",
   "metadata": {},
   "outputs": [],
   "source": [
    "short_names = pres[pres['height(cm)']< 170].copy()['name']"
   ]
  },
  {
   "cell_type": "code",
   "execution_count": 25,
   "id": "1669629c",
   "metadata": {},
   "outputs": [
    {
     "data": {
      "text/plain": [
       "3         James Madison\n",
       "7      Martin Van Buren\n",
       "21    Benjamin Harrison\n",
       "Name: name, dtype: object"
      ]
     },
     "execution_count": 25,
     "metadata": {},
     "output_type": "execute_result"
    }
   ],
   "source": [
    "short_names"
   ]
  },
  {
   "cell_type": "code",
   "execution_count": 26,
   "id": "991fc666",
   "metadata": {},
   "outputs": [],
   "source": []
  },
  {
   "cell_type": "code",
   "execution_count": 27,
   "id": "9023b68c",
   "metadata": {},
   "outputs": [],
   "source": [
    "#it is best to never to try and infer whether a subset of a DataFrame if a view or a copy until you have explicitly made a copy with .copy().\n",
    "#if you make a slice for any purpose other than immediately analyzing, you should add .copy() to that slice"
   ]
  },
  {
   "cell_type": "code",
   "execution_count": null,
   "id": "65b6ae6b",
   "metadata": {},
   "outputs": [],
   "source": []
  },
  {
   "cell_type": "code",
   "execution_count": 33,
   "id": "1525744a",
   "metadata": {},
   "outputs": [
    {
     "data": {
      "text/plain": [
       "True"
      ]
     },
     "execution_count": 33,
     "metadata": {},
     "output_type": "execute_result"
    }
   ],
   "source": [
    "short_names._is_view"
   ]
  },
  {
   "cell_type": "code",
   "execution_count": 34,
   "id": "dac8c888",
   "metadata": {},
   "outputs": [
    {
     "data": {
      "text/plain": [
       "False"
      ]
     },
     "execution_count": 34,
     "metadata": {},
     "output_type": "execute_result"
    }
   ],
   "source": [
    "tall_names._is_view"
   ]
  },
  {
   "cell_type": "code",
   "execution_count": 36,
   "id": "314463e6",
   "metadata": {},
   "outputs": [],
   "source": [
    "#https://pandas.pydata.org/pandas-docs/stable/user_guide/indexing.html#returning-a-view-versus-a-copy"
   ]
  },
  {
   "cell_type": "code",
   "execution_count": null,
   "id": "b692ced5",
   "metadata": {},
   "outputs": [],
   "source": []
  }
 ],
 "metadata": {
  "kernelspec": {
   "display_name": "Python 3 (ipykernel)",
   "language": "python",
   "name": "python3"
  },
  "language_info": {
   "codemirror_mode": {
    "name": "ipython",
    "version": 3
   },
   "file_extension": ".py",
   "mimetype": "text/x-python",
   "name": "python",
   "nbconvert_exporter": "python",
   "pygments_lexer": "ipython3",
   "version": "3.8.12"
  }
 },
 "nbformat": 4,
 "nbformat_minor": 5
}
