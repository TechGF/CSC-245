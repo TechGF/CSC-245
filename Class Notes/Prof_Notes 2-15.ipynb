{
 "cells": [
  {
   "cell_type": "code",
   "execution_count": 1,
   "id": "d09f0cd0",
   "metadata": {},
   "outputs": [],
   "source": [
    "import numpy as np"
   ]
  },
  {
   "cell_type": "code",
   "execution_count": 2,
   "id": "857ed62c",
   "metadata": {},
   "outputs": [],
   "source": [
    "#we can take a list and convert it to a numpy array\n",
    "my_nums = [2, 5, 6, 12]"
   ]
  },
  {
   "cell_type": "code",
   "execution_count": 3,
   "id": "bb4a734c",
   "metadata": {},
   "outputs": [],
   "source": [
    "nums = np.array(my_nums)"
   ]
  },
  {
   "cell_type": "code",
   "execution_count": 4,
   "id": "bef0ddf0",
   "metadata": {},
   "outputs": [
    {
     "data": {
      "text/plain": [
       "array([ 2,  5,  6, 12])"
      ]
     },
     "execution_count": 4,
     "metadata": {},
     "output_type": "execute_result"
    }
   ],
   "source": [
    "nums"
   ]
  },
  {
   "cell_type": "code",
   "execution_count": 5,
   "id": "dbec7c55",
   "metadata": {},
   "outputs": [
    {
     "data": {
      "text/plain": [
       "numpy.ndarray"
      ]
     },
     "execution_count": 5,
     "metadata": {},
     "output_type": "execute_result"
    }
   ],
   "source": [
    "type(nums)"
   ]
  },
  {
   "cell_type": "code",
   "execution_count": 6,
   "id": "11acc474",
   "metadata": {},
   "outputs": [
    {
     "data": {
      "text/plain": [
       "numpy.int32"
      ]
     },
     "execution_count": 6,
     "metadata": {},
     "output_type": "execute_result"
    }
   ],
   "source": [
    "type(nums[0])"
   ]
  },
  {
   "cell_type": "code",
   "execution_count": 7,
   "id": "d9018f23",
   "metadata": {},
   "outputs": [
    {
     "data": {
      "text/plain": [
       "dtype('int32')"
      ]
     },
     "execution_count": 7,
     "metadata": {},
     "output_type": "execute_result"
    }
   ],
   "source": [
    "nums.dtype"
   ]
  },
  {
   "cell_type": "code",
   "execution_count": 8,
   "id": "42721513",
   "metadata": {},
   "outputs": [],
   "source": [
    "my_nums2 = [2, 5, 6, 12, 'a']"
   ]
  },
  {
   "cell_type": "code",
   "execution_count": 9,
   "id": "5b3cdd74",
   "metadata": {},
   "outputs": [],
   "source": [
    "second = np.array(my_nums2)"
   ]
  },
  {
   "cell_type": "code",
   "execution_count": 10,
   "id": "c8adfe92",
   "metadata": {},
   "outputs": [
    {
     "data": {
      "text/plain": [
       "array(['2', '5', '6', '12', 'a'], dtype='<U11')"
      ]
     },
     "execution_count": 10,
     "metadata": {},
     "output_type": "execute_result"
    }
   ],
   "source": [
    "second"
   ]
  },
  {
   "cell_type": "code",
   "execution_count": 11,
   "id": "0ac0d9b9",
   "metadata": {},
   "outputs": [
    {
     "data": {
      "text/plain": [
       "numpy.ndarray"
      ]
     },
     "execution_count": 11,
     "metadata": {},
     "output_type": "execute_result"
    }
   ],
   "source": [
    "type(second)"
   ]
  },
  {
   "cell_type": "code",
   "execution_count": 13,
   "id": "516a6b84",
   "metadata": {},
   "outputs": [
    {
     "data": {
      "text/plain": [
       "dtype('<U11')"
      ]
     },
     "execution_count": 13,
     "metadata": {},
     "output_type": "execute_result"
    }
   ],
   "source": [
    "second.dtype"
   ]
  },
  {
   "cell_type": "code",
   "execution_count": 14,
   "id": "42677690",
   "metadata": {},
   "outputs": [
    {
     "data": {
      "text/plain": [
       "array([ 2,  5,  6, 12])"
      ]
     },
     "execution_count": 14,
     "metadata": {},
     "output_type": "execute_result"
    }
   ],
   "source": [
    "nums"
   ]
  },
  {
   "cell_type": "code",
   "execution_count": 15,
   "id": "8f91e381",
   "metadata": {},
   "outputs": [],
   "source": [
    "#mean, median, max, min, sum "
   ]
  },
  {
   "cell_type": "code",
   "execution_count": 16,
   "id": "d8eebe3e",
   "metadata": {},
   "outputs": [],
   "source": [
    "x2 = np.random.randint(10, size = (3, 4))"
   ]
  },
  {
   "cell_type": "code",
   "execution_count": 17,
   "id": "c01829dc",
   "metadata": {},
   "outputs": [
    {
     "data": {
      "text/plain": [
       "array([[9, 0, 5, 4],\n",
       "       [6, 0, 7, 0],\n",
       "       [3, 9, 2, 4]])"
      ]
     },
     "execution_count": 17,
     "metadata": {},
     "output_type": "execute_result"
    }
   ],
   "source": [
    "x2"
   ]
  },
  {
   "cell_type": "code",
   "execution_count": 18,
   "id": "b1d135f3",
   "metadata": {},
   "outputs": [
    {
     "data": {
      "text/plain": [
       "49"
      ]
     },
     "execution_count": 18,
     "metadata": {},
     "output_type": "execute_result"
    }
   ],
   "source": [
    "#sum the columns of x2\n",
    "x2.sum()"
   ]
  },
  {
   "cell_type": "code",
   "execution_count": 19,
   "id": "82a3ce1c",
   "metadata": {},
   "outputs": [
    {
     "data": {
      "text/plain": [
       "array([18,  9, 14,  8])"
      ]
     },
     "execution_count": 19,
     "metadata": {},
     "output_type": "execute_result"
    }
   ],
   "source": [
    "x2.sum(axis = 0)"
   ]
  },
  {
   "cell_type": "code",
   "execution_count": 20,
   "id": "fe47721e",
   "metadata": {},
   "outputs": [
    {
     "data": {
      "text/plain": [
       "array([18, 13, 18])"
      ]
     },
     "execution_count": 20,
     "metadata": {},
     "output_type": "execute_result"
    }
   ],
   "source": [
    "x2.sum(axis = 1)"
   ]
  },
  {
   "cell_type": "code",
   "execution_count": 21,
   "id": "3808cc48",
   "metadata": {},
   "outputs": [
    {
     "data": {
      "text/plain": [
       "array([[9, 6, 3],\n",
       "       [0, 0, 9],\n",
       "       [5, 7, 2],\n",
       "       [4, 0, 4]])"
      ]
     },
     "execution_count": 21,
     "metadata": {},
     "output_type": "execute_result"
    }
   ],
   "source": [
    "x2.transpose()"
   ]
  },
  {
   "cell_type": "code",
   "execution_count": 23,
   "id": "630fb2de",
   "metadata": {},
   "outputs": [
    {
     "data": {
      "text/plain": [
       "8"
      ]
     },
     "execution_count": 23,
     "metadata": {},
     "output_type": "execute_result"
    }
   ],
   "source": [
    "x2.transpose().sum(axis = 1).min()"
   ]
  },
  {
   "cell_type": "code",
   "execution_count": 24,
   "id": "dec686c3",
   "metadata": {},
   "outputs": [
    {
     "data": {
      "text/plain": [
       "array([ 2,  5,  6, 12])"
      ]
     },
     "execution_count": 24,
     "metadata": {},
     "output_type": "execute_result"
    }
   ],
   "source": [
    "nums"
   ]
  },
  {
   "cell_type": "code",
   "execution_count": 40,
   "id": "455e39fe",
   "metadata": {},
   "outputs": [
    {
     "data": {
      "text/plain": [
       "array([ True, False, False, False])"
      ]
     },
     "execution_count": 40,
     "metadata": {},
     "output_type": "execute_result"
    }
   ],
   "source": [
    "nums < 4"
   ]
  },
  {
   "cell_type": "code",
   "execution_count": 42,
   "id": "5aeb4e5b",
   "metadata": {},
   "outputs": [
    {
     "data": {
      "text/plain": [
       "array([5])"
      ]
     },
     "execution_count": 42,
     "metadata": {},
     "output_type": "execute_result"
    }
   ],
   "source": [
    "nums[(nums > 4) & (nums < 6)]"
   ]
  },
  {
   "cell_type": "code",
   "execution_count": 43,
   "id": "48fc4177",
   "metadata": {},
   "outputs": [
    {
     "data": {
      "text/plain": [
       "array([ 2, 12])"
      ]
     },
     "execution_count": 43,
     "metadata": {},
     "output_type": "execute_result"
    }
   ],
   "source": [
    "nums[(nums < 4) | (nums > 6)]"
   ]
  },
  {
   "cell_type": "code",
   "execution_count": null,
   "id": "4bff2a0a",
   "metadata": {},
   "outputs": [],
   "source": []
  },
  {
   "cell_type": "code",
   "execution_count": 26,
   "id": "8aeb6b03",
   "metadata": {},
   "outputs": [
    {
     "data": {
      "text/plain": [
       "array([2])"
      ]
     },
     "execution_count": 26,
     "metadata": {},
     "output_type": "execute_result"
    }
   ],
   "source": [
    "nums[nums < 4]"
   ]
  },
  {
   "cell_type": "code",
   "execution_count": 30,
   "id": "5925e7b8",
   "metadata": {},
   "outputs": [
    {
     "data": {
      "text/plain": [
       "array([ 5, 12])"
      ]
     },
     "execution_count": 30,
     "metadata": {},
     "output_type": "execute_result"
    }
   ],
   "source": [
    "#fancy indexing\n",
    "nums[[1,3]]"
   ]
  },
  {
   "cell_type": "code",
   "execution_count": 31,
   "id": "96f43afb",
   "metadata": {},
   "outputs": [
    {
     "data": {
      "text/plain": [
       "array([2, 5, 6])"
      ]
     },
     "execution_count": 31,
     "metadata": {},
     "output_type": "execute_result"
    }
   ],
   "source": [
    "nums[[True, True, True, False]]"
   ]
  },
  {
   "cell_type": "code",
   "execution_count": 32,
   "id": "6ee6df2b",
   "metadata": {},
   "outputs": [
    {
     "data": {
      "text/plain": [
       "array([ 2, 12])"
      ]
     },
     "execution_count": 32,
     "metadata": {},
     "output_type": "execute_result"
    }
   ],
   "source": [
    "ind = [0,3]\n",
    "nums[ind]"
   ]
  },
  {
   "cell_type": "code",
   "execution_count": 33,
   "id": "fa3ce1b6",
   "metadata": {},
   "outputs": [
    {
     "data": {
      "text/plain": [
       "array([ 2,  5,  6, 12])"
      ]
     },
     "execution_count": 33,
     "metadata": {},
     "output_type": "execute_result"
    }
   ],
   "source": [
    "nums"
   ]
  },
  {
   "cell_type": "code",
   "execution_count": 35,
   "id": "b956f8cc",
   "metadata": {},
   "outputs": [
    {
     "data": {
      "text/plain": [
       "True"
      ]
     },
     "execution_count": 35,
     "metadata": {},
     "output_type": "execute_result"
    }
   ],
   "source": [
    "np.any(nums < 100)"
   ]
  },
  {
   "cell_type": "code",
   "execution_count": 37,
   "id": "f9bf0751",
   "metadata": {},
   "outputs": [
    {
     "data": {
      "text/plain": [
       "False"
      ]
     },
     "execution_count": 37,
     "metadata": {},
     "output_type": "execute_result"
    }
   ],
   "source": [
    "np.all (nums < 12)"
   ]
  },
  {
   "cell_type": "code",
   "execution_count": 39,
   "id": "e9485a98",
   "metadata": {},
   "outputs": [
    {
     "data": {
      "text/plain": [
       "4"
      ]
     },
     "execution_count": 39,
     "metadata": {},
     "output_type": "execute_result"
    }
   ],
   "source": [
    "np.count_nonzero(nums)"
   ]
  },
  {
   "cell_type": "code",
   "execution_count": 45,
   "id": "c7f03271",
   "metadata": {},
   "outputs": [],
   "source": [
    "x2 = np.random.randint(10, size = 10)"
   ]
  },
  {
   "cell_type": "code",
   "execution_count": 46,
   "id": "d5f9df35",
   "metadata": {},
   "outputs": [
    {
     "data": {
      "text/plain": [
       "array([1, 5, 5, 4, 2, 5, 2, 5, 4, 1])"
      ]
     },
     "execution_count": 46,
     "metadata": {},
     "output_type": "execute_result"
    }
   ],
   "source": [
    "x2"
   ]
  },
  {
   "cell_type": "code",
   "execution_count": 49,
   "id": "a824ea1a",
   "metadata": {},
   "outputs": [],
   "source": [
    "sorted_x2 = np.sort(x2)"
   ]
  },
  {
   "cell_type": "code",
   "execution_count": 50,
   "id": "25ca94f8",
   "metadata": {},
   "outputs": [
    {
     "data": {
      "text/plain": [
       "array([1, 5, 5, 4, 2, 5, 2, 5, 4, 1])"
      ]
     },
     "execution_count": 50,
     "metadata": {},
     "output_type": "execute_result"
    }
   ],
   "source": [
    "x2"
   ]
  },
  {
   "cell_type": "code",
   "execution_count": 51,
   "id": "e10ef238",
   "metadata": {},
   "outputs": [
    {
     "data": {
      "text/plain": [
       "array([1, 1, 2, 2, 4, 4, 5, 5, 5, 5])"
      ]
     },
     "execution_count": 51,
     "metadata": {},
     "output_type": "execute_result"
    }
   ],
   "source": [
    "sorted_x2 "
   ]
  },
  {
   "cell_type": "code",
   "execution_count": 52,
   "id": "d214168b",
   "metadata": {},
   "outputs": [],
   "source": [
    "sorted_x2[0] = -88"
   ]
  },
  {
   "cell_type": "code",
   "execution_count": 53,
   "id": "5d61426d",
   "metadata": {},
   "outputs": [
    {
     "data": {
      "text/plain": [
       "array([-88,   1,   2,   2,   4,   4,   5,   5,   5,   5])"
      ]
     },
     "execution_count": 53,
     "metadata": {},
     "output_type": "execute_result"
    }
   ],
   "source": [
    "sorted_x2"
   ]
  },
  {
   "cell_type": "code",
   "execution_count": 54,
   "id": "ce30e233",
   "metadata": {},
   "outputs": [
    {
     "data": {
      "text/plain": [
       "array([1, 5, 5, 4, 2, 5, 2, 5, 4, 1])"
      ]
     },
     "execution_count": 54,
     "metadata": {},
     "output_type": "execute_result"
    }
   ],
   "source": [
    "x2"
   ]
  },
  {
   "cell_type": "code",
   "execution_count": 55,
   "id": "721618c6",
   "metadata": {},
   "outputs": [],
   "source": [
    "x2.sort()"
   ]
  },
  {
   "cell_type": "code",
   "execution_count": 56,
   "id": "0e3adf5c",
   "metadata": {},
   "outputs": [
    {
     "data": {
      "text/plain": [
       "array([1, 1, 2, 2, 4, 4, 5, 5, 5, 5])"
      ]
     },
     "execution_count": 56,
     "metadata": {},
     "output_type": "execute_result"
    }
   ],
   "source": [
    "x2"
   ]
  },
  {
   "cell_type": "code",
   "execution_count": 57,
   "id": "69ed0bdf",
   "metadata": {},
   "outputs": [],
   "source": [
    "#argsort\n",
    "x2 = np.random.randint(10, size = 10)"
   ]
  },
  {
   "cell_type": "code",
   "execution_count": 58,
   "id": "4856c5ee",
   "metadata": {},
   "outputs": [
    {
     "data": {
      "text/plain": [
       "array([9, 0, 2, 7, 2, 2, 9, 4, 1, 7])"
      ]
     },
     "execution_count": 58,
     "metadata": {},
     "output_type": "execute_result"
    }
   ],
   "source": [
    "x2"
   ]
  },
  {
   "cell_type": "code",
   "execution_count": 60,
   "id": "13d67e02",
   "metadata": {},
   "outputs": [],
   "source": [
    "indexes_for_sorting = np.argsort(x2)"
   ]
  },
  {
   "cell_type": "code",
   "execution_count": 63,
   "id": "e7e5395a",
   "metadata": {},
   "outputs": [
    {
     "name": "stdout",
     "output_type": "stream",
     "text": [
      "[1 8 2 4 5 7 3 9 0 6]\n"
     ]
    }
   ],
   "source": [
    "print(indexes_for_sorting)"
   ]
  },
  {
   "cell_type": "code",
   "execution_count": 62,
   "id": "e44c47f6",
   "metadata": {},
   "outputs": [
    {
     "data": {
      "text/plain": [
       "numpy.ndarray"
      ]
     },
     "execution_count": 62,
     "metadata": {},
     "output_type": "execute_result"
    }
   ],
   "source": [
    "type(indexes_for_sorting)"
   ]
  },
  {
   "cell_type": "code",
   "execution_count": null,
   "id": "43215bfb",
   "metadata": {},
   "outputs": [],
   "source": []
  }
 ],
 "metadata": {
  "kernelspec": {
   "display_name": "Python 3",
   "language": "python",
   "name": "python3"
  },
  "language_info": {
   "codemirror_mode": {
    "name": "ipython",
    "version": 3
   },
   "file_extension": ".py",
   "mimetype": "text/x-python",
   "name": "python",
   "nbconvert_exporter": "python",
   "pygments_lexer": "ipython3",
   "version": "3.8.8"
  }
 },
 "nbformat": 4,
 "nbformat_minor": 5
}
