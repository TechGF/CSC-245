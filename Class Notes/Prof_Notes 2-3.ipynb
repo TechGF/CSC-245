{
 "cells": [
  {
   "cell_type": "markdown",
   "id": "ed6145ef",
   "metadata": {},
   "source": [
    "### continued Python Introduction"
   ]
  },
  {
   "cell_type": "code",
   "execution_count": 1,
   "id": "869f853e",
   "metadata": {},
   "outputs": [],
   "source": [
    "#variables, everything is objects\n",
    "#whitespace is important\n",
    "#range,  lists\n",
    "\n"
   ]
  },
  {
   "cell_type": "code",
   "execution_count": 7,
   "id": "dcabccc0",
   "metadata": {},
   "outputs": [],
   "source": [
    "def check_password(passw):\n",
    "    if passw == \"myveryhardpassword\":\n",
    "        print('enter')\n",
    "    elif passw == '':\n",
    "        print(\"please enter a password\")\n",
    "    else:\n",
    "        print('no entry')"
   ]
  },
  {
   "cell_type": "code",
   "execution_count": 8,
   "id": "7a15665b",
   "metadata": {},
   "outputs": [
    {
     "name": "stdout",
     "output_type": "stream",
     "text": [
      "please enter a password\n"
     ]
    }
   ],
   "source": [
    "check_password(\"\")"
   ]
  },
  {
   "cell_type": "code",
   "execution_count": 9,
   "id": "5e8fd1fc",
   "metadata": {},
   "outputs": [],
   "source": [
    "def check_password(passw):\n",
    "    if passw == \"myveryhardpassword\":\n",
    "        return True\n",
    "    else:\n",
    "        return False"
   ]
  },
  {
   "cell_type": "code",
   "execution_count": 10,
   "id": "4aa542b6",
   "metadata": {},
   "outputs": [
    {
     "data": {
      "text/plain": [
       "False"
      ]
     },
     "execution_count": 10,
     "metadata": {},
     "output_type": "execute_result"
    }
   ],
   "source": [
    "check_password('abc123')"
   ]
  },
  {
   "cell_type": "code",
   "execution_count": 11,
   "id": "0c1987a4",
   "metadata": {},
   "outputs": [],
   "source": [
    "#indexing and slicing\n",
    "word = 'Welcome'"
   ]
  },
  {
   "cell_type": "code",
   "execution_count": 12,
   "id": "2b6e2fdc",
   "metadata": {},
   "outputs": [
    {
     "data": {
      "text/plain": [
       "'e'"
      ]
     },
     "execution_count": 12,
     "metadata": {},
     "output_type": "execute_result"
    }
   ],
   "source": [
    "word[1]"
   ]
  },
  {
   "cell_type": "code",
   "execution_count": 13,
   "id": "cd4f6d7c",
   "metadata": {},
   "outputs": [
    {
     "data": {
      "text/plain": [
       "'elc'"
      ]
     },
     "execution_count": 13,
     "metadata": {},
     "output_type": "execute_result"
    }
   ],
   "source": [
    "word[1:4]"
   ]
  },
  {
   "cell_type": "code",
   "execution_count": 17,
   "id": "5cfd0f0e",
   "metadata": {},
   "outputs": [
    {
     "data": {
      "text/plain": [
       "'Welcome'"
      ]
     },
     "execution_count": 17,
     "metadata": {},
     "output_type": "execute_result"
    }
   ],
   "source": [
    "word[:]"
   ]
  },
  {
   "cell_type": "code",
   "execution_count": 18,
   "id": "fce7a97d",
   "metadata": {},
   "outputs": [
    {
     "data": {
      "text/plain": [
       "'e'"
      ]
     },
     "execution_count": 18,
     "metadata": {},
     "output_type": "execute_result"
    }
   ],
   "source": [
    "word[-1]"
   ]
  },
  {
   "cell_type": "code",
   "execution_count": 19,
   "id": "0f8e6c26",
   "metadata": {},
   "outputs": [],
   "source": [
    "coffee_prices = [1.29, 2.45, 2.49, 5.30, 1.67]"
   ]
  },
  {
   "cell_type": "code",
   "execution_count": 21,
   "id": "4dc50df7",
   "metadata": {},
   "outputs": [
    {
     "data": {
      "text/plain": [
       "[2.49, 5.3, 1.67]"
      ]
     },
     "execution_count": 21,
     "metadata": {},
     "output_type": "execute_result"
    }
   ],
   "source": [
    "coffee_prices[2:]"
   ]
  },
  {
   "cell_type": "code",
   "execution_count": 22,
   "id": "3f421e1f",
   "metadata": {},
   "outputs": [
    {
     "data": {
      "text/plain": [
       "1.67"
      ]
     },
     "execution_count": 22,
     "metadata": {},
     "output_type": "execute_result"
    }
   ],
   "source": [
    "coffee_prices[-1]"
   ]
  },
  {
   "cell_type": "code",
   "execution_count": 24,
   "id": "1b58f263",
   "metadata": {},
   "outputs": [
    {
     "name": "stdout",
     "output_type": "stream",
     "text": [
      "5\n",
      "7\n"
     ]
    }
   ],
   "source": [
    "print(len(coffee_prices))\n",
    "print(len(word))"
   ]
  },
  {
   "cell_type": "code",
   "execution_count": 25,
   "id": "69ef5fa9",
   "metadata": {},
   "outputs": [],
   "source": [
    "coffee_prices.append('hello')"
   ]
  },
  {
   "cell_type": "code",
   "execution_count": 26,
   "id": "73d1e203",
   "metadata": {},
   "outputs": [
    {
     "data": {
      "text/plain": [
       "[1.29, 2.45, 2.49, 5.3, 1.67, 'hello']"
      ]
     },
     "execution_count": 26,
     "metadata": {},
     "output_type": "execute_result"
    }
   ],
   "source": [
    "coffee_prices"
   ]
  },
  {
   "cell_type": "code",
   "execution_count": 27,
   "id": "26b86c34",
   "metadata": {},
   "outputs": [],
   "source": [
    "coffee_prices.insert(1,'good-bye')"
   ]
  },
  {
   "cell_type": "code",
   "execution_count": 28,
   "id": "66347f0a",
   "metadata": {},
   "outputs": [
    {
     "data": {
      "text/plain": [
       "[1.29, 'good-bye', 2.45, 2.49, 5.3, 1.67, 'hello']"
      ]
     },
     "execution_count": 28,
     "metadata": {},
     "output_type": "execute_result"
    }
   ],
   "source": [
    "coffee_prices"
   ]
  },
  {
   "cell_type": "code",
   "execution_count": 29,
   "id": "61d2c67a",
   "metadata": {},
   "outputs": [],
   "source": [
    "weight, height, age = [140, 65, 32]"
   ]
  },
  {
   "cell_type": "code",
   "execution_count": 30,
   "id": "10e02080",
   "metadata": {},
   "outputs": [
    {
     "data": {
      "text/plain": [
       "2750889011456"
      ]
     },
     "execution_count": 30,
     "metadata": {},
     "output_type": "execute_result"
    }
   ],
   "source": [
    "id(coffee_prices)"
   ]
  },
  {
   "cell_type": "code",
   "execution_count": 33,
   "id": "345fa9d9",
   "metadata": {},
   "outputs": [],
   "source": [
    "coffee_prices = [1.29, 2.45, 2.49, 5.30, 1.67]"
   ]
  },
  {
   "cell_type": "code",
   "execution_count": 34,
   "id": "494f1df9",
   "metadata": {},
   "outputs": [
    {
     "data": {
      "text/plain": [
       "2750913603008"
      ]
     },
     "execution_count": 34,
     "metadata": {},
     "output_type": "execute_result"
    }
   ],
   "source": [
    "id(coffee_prices)"
   ]
  },
  {
   "cell_type": "code",
   "execution_count": 35,
   "id": "71cf01d3",
   "metadata": {},
   "outputs": [],
   "source": [
    "coffee_prices[0] = 1.00"
   ]
  },
  {
   "cell_type": "code",
   "execution_count": 36,
   "id": "743b9dff",
   "metadata": {},
   "outputs": [
    {
     "data": {
      "text/plain": [
       "2750913603008"
      ]
     },
     "execution_count": 36,
     "metadata": {},
     "output_type": "execute_result"
    }
   ],
   "source": [
    "id(coffee_prices)"
   ]
  },
  {
   "cell_type": "code",
   "execution_count": 37,
   "id": "8f59eae9",
   "metadata": {},
   "outputs": [],
   "source": [
    "x = 2"
   ]
  },
  {
   "cell_type": "code",
   "execution_count": 38,
   "id": "27fcb09e",
   "metadata": {},
   "outputs": [
    {
     "data": {
      "text/plain": [
       "140727659276112"
      ]
     },
     "execution_count": 38,
     "metadata": {},
     "output_type": "execute_result"
    }
   ],
   "source": [
    "id(x)"
   ]
  },
  {
   "cell_type": "code",
   "execution_count": 39,
   "id": "00fb86af",
   "metadata": {},
   "outputs": [],
   "source": [
    "x = 0"
   ]
  },
  {
   "cell_type": "code",
   "execution_count": 40,
   "id": "6ef0a5c6",
   "metadata": {},
   "outputs": [
    {
     "data": {
      "text/plain": [
       "140727659276048"
      ]
     },
     "execution_count": 40,
     "metadata": {},
     "output_type": "execute_result"
    }
   ],
   "source": [
    "id(x)"
   ]
  },
  {
   "cell_type": "code",
   "execution_count": 41,
   "id": "9ef92710",
   "metadata": {},
   "outputs": [],
   "source": [
    "#tuple \n",
    "weight, height, age = (140, 65, 32)"
   ]
  },
  {
   "cell_type": "code",
   "execution_count": 42,
   "id": "3c32774c",
   "metadata": {},
   "outputs": [],
   "source": [
    "my_data =  (140, 65, 32)"
   ]
  },
  {
   "cell_type": "code",
   "execution_count": 43,
   "id": "d98d693f",
   "metadata": {},
   "outputs": [
    {
     "data": {
      "text/plain": [
       "(140, 65, 32)"
      ]
     },
     "execution_count": 43,
     "metadata": {},
     "output_type": "execute_result"
    }
   ],
   "source": [
    "my_data"
   ]
  },
  {
   "cell_type": "code",
   "execution_count": 44,
   "id": "3b7bfed0",
   "metadata": {},
   "outputs": [
    {
     "ename": "TypeError",
     "evalue": "'tuple' object does not support item assignment",
     "output_type": "error",
     "traceback": [
      "\u001b[1;31m---------------------------------------------------------------------------\u001b[0m",
      "\u001b[1;31mTypeError\u001b[0m                                 Traceback (most recent call last)",
      "\u001b[1;32m<ipython-input-44-215196f59b06>\u001b[0m in \u001b[0;36m<module>\u001b[1;34m\u001b[0m\n\u001b[1;32m----> 1\u001b[1;33m \u001b[0mmy_data\u001b[0m\u001b[1;33m[\u001b[0m\u001b[1;36m0\u001b[0m\u001b[1;33m]\u001b[0m \u001b[1;33m=\u001b[0m \u001b[1;36m135\u001b[0m\u001b[1;33m\u001b[0m\u001b[1;33m\u001b[0m\u001b[0m\n\u001b[0m",
      "\u001b[1;31mTypeError\u001b[0m: 'tuple' object does not support item assignment"
     ]
    }
   ],
   "source": [
    "my_data[0] = 135"
   ]
  },
  {
   "cell_type": "code",
   "execution_count": 45,
   "id": "94d7811d",
   "metadata": {},
   "outputs": [
    {
     "data": {
      "text/plain": [
       "'Welcome'"
      ]
     },
     "execution_count": 45,
     "metadata": {},
     "output_type": "execute_result"
    }
   ],
   "source": [
    "word"
   ]
  },
  {
   "cell_type": "code",
   "execution_count": 46,
   "id": "70521025",
   "metadata": {},
   "outputs": [
    {
     "ename": "TypeError",
     "evalue": "'str' object does not support item assignment",
     "output_type": "error",
     "traceback": [
      "\u001b[1;31m---------------------------------------------------------------------------\u001b[0m",
      "\u001b[1;31mTypeError\u001b[0m                                 Traceback (most recent call last)",
      "\u001b[1;32m<ipython-input-46-296dc775335b>\u001b[0m in \u001b[0;36m<module>\u001b[1;34m\u001b[0m\n\u001b[1;32m----> 1\u001b[1;33m \u001b[0mword\u001b[0m\u001b[1;33m[\u001b[0m\u001b[1;36m0\u001b[0m\u001b[1;33m]\u001b[0m \u001b[1;33m=\u001b[0m \u001b[1;34m'a'\u001b[0m\u001b[1;33m\u001b[0m\u001b[1;33m\u001b[0m\u001b[0m\n\u001b[0m",
      "\u001b[1;31mTypeError\u001b[0m: 'str' object does not support item assignment"
     ]
    }
   ],
   "source": [
    "word[0] = 'a'"
   ]
  },
  {
   "cell_type": "code",
   "execution_count": 49,
   "id": "01cea099",
   "metadata": {},
   "outputs": [],
   "source": [
    "#take out word[2], replace it with dont\n",
    "word = word[:2] + 'dont' + word[3:]"
   ]
  },
  {
   "cell_type": "code",
   "execution_count": 50,
   "id": "d129af4b",
   "metadata": {},
   "outputs": [
    {
     "name": "stdout",
     "output_type": "stream",
     "text": [
      "Wedontcome\n"
     ]
    }
   ],
   "source": [
    "print(word)"
   ]
  },
  {
   "cell_type": "code",
   "execution_count": 51,
   "id": "6800950c",
   "metadata": {},
   "outputs": [],
   "source": [
    "my_list = [16, 'a', [4, 5, 'a'], 13, 'b', 'a']"
   ]
  },
  {
   "cell_type": "code",
   "execution_count": 59,
   "id": "1bb0dc5e",
   "metadata": {},
   "outputs": [
    {
     "data": {
      "text/plain": [
       "['a']"
      ]
     },
     "execution_count": 59,
     "metadata": {},
     "output_type": "execute_result"
    }
   ],
   "source": [
    "my_list[1:2]"
   ]
  },
  {
   "cell_type": "code",
   "execution_count": 68,
   "id": "7a406056",
   "metadata": {},
   "outputs": [],
   "source": [
    "#dictionary\n",
    "#mutable collection of items, unordered\n",
    "#keys and values\n",
    "cov = {'Brooklyn': 11987, \n",
    "                        'Bronx': 13786,\n",
    "                       'Staten Island' : 13456}"
   ]
  },
  {
   "cell_type": "code",
   "execution_count": 69,
   "id": "d4152372",
   "metadata": {},
   "outputs": [
    {
     "data": {
      "text/plain": [
       "13456"
      ]
     },
     "execution_count": 69,
     "metadata": {},
     "output_type": "execute_result"
    }
   ],
   "source": [
    "cov['Staten Island']"
   ]
  },
  {
   "cell_type": "code",
   "execution_count": 76,
   "id": "fd579c4f",
   "metadata": {},
   "outputs": [
    {
     "name": "stdout",
     "output_type": "stream",
     "text": [
      "11987\n",
      "13786\n",
      "13456\n"
     ]
    }
   ],
   "source": [
    "for x in cov.values():\n",
    "    print(x)"
   ]
  },
  {
   "cell_type": "code",
   "execution_count": 71,
   "id": "ba998a0d",
   "metadata": {},
   "outputs": [
    {
     "data": {
      "text/plain": [
       "{'Brooklyn': 11987, 'Bronx': 13786, 'Staten Island': 13456}"
      ]
     },
     "execution_count": 71,
     "metadata": {},
     "output_type": "execute_result"
    }
   ],
   "source": [
    "cov"
   ]
  },
  {
   "cell_type": "code",
   "execution_count": 74,
   "id": "5d98df44",
   "metadata": {},
   "outputs": [
    {
     "data": {
      "text/plain": [
       "['Brooklyn', 'Bronx', 'Staten Island']"
      ]
     },
     "execution_count": 74,
     "metadata": {},
     "output_type": "execute_result"
    }
   ],
   "source": [
    "list(cov.keys())"
   ]
  },
  {
   "cell_type": "code",
   "execution_count": 75,
   "id": "d1f4b84a",
   "metadata": {},
   "outputs": [
    {
     "data": {
      "text/plain": [
       "[11987, 13786, 13456]"
      ]
     },
     "execution_count": 75,
     "metadata": {},
     "output_type": "execute_result"
    }
   ],
   "source": [
    "list(cov.values())"
   ]
  },
  {
   "cell_type": "code",
   "execution_count": 78,
   "id": "2823721e",
   "metadata": {},
   "outputs": [
    {
     "name": "stdout",
     "output_type": "stream",
     "text": [
      "16\n",
      "a\n",
      "[4, 5, 'a']\n",
      "13\n",
      "b\n",
      "a\n"
     ]
    }
   ],
   "source": [
    "for v in my_list:\n",
    "    print(v)"
   ]
  },
  {
   "cell_type": "code",
   "execution_count": 80,
   "id": "89d79b47",
   "metadata": {},
   "outputs": [
    {
     "name": "stdout",
     "output_type": "stream",
     "text": [
      "0\n",
      "1\n",
      "2\n",
      "3\n",
      "4\n",
      "5\n",
      "6\n",
      "7\n",
      "8\n",
      "9\n"
     ]
    }
   ],
   "source": [
    "for i in range(10):\n",
    "    print(i)"
   ]
  },
  {
   "cell_type": "code",
   "execution_count": 84,
   "id": "41d51fa2",
   "metadata": {},
   "outputs": [
    {
     "name": "stdout",
     "output_type": "stream",
     "text": [
      "13786\n",
      "13456\n"
     ]
    }
   ],
   "source": [
    "for x in cov.values():\n",
    "    if x > 12000:\n",
    "        print(x)"
   ]
  },
  {
   "cell_type": "code",
   "execution_count": 85,
   "id": "9bd83e45",
   "metadata": {},
   "outputs": [
    {
     "data": {
      "text/plain": [
       "[16, 'a', [4, 5, 'a'], 13, 'b', 'a']"
      ]
     },
     "execution_count": 85,
     "metadata": {},
     "output_type": "execute_result"
    }
   ],
   "source": [
    "my_list"
   ]
  },
  {
   "cell_type": "code",
   "execution_count": 86,
   "id": "8a70d60d",
   "metadata": {},
   "outputs": [],
   "source": [
    "my_list.reverse()"
   ]
  },
  {
   "cell_type": "code",
   "execution_count": 87,
   "id": "7d87eaf2",
   "metadata": {},
   "outputs": [
    {
     "data": {
      "text/plain": [
       "['a', 'b', 13, [4, 5, 'a'], 'a', 16]"
      ]
     },
     "execution_count": 87,
     "metadata": {},
     "output_type": "execute_result"
    }
   ],
   "source": [
    "my_list"
   ]
  },
  {
   "cell_type": "code",
   "execution_count": 89,
   "id": "b0708fd6",
   "metadata": {},
   "outputs": [],
   "source": [
    "def long_words(n, lst):\n",
    "    word_list = []\n",
    "    for w in lst:\n",
    "        if len(w) > n:\n",
    "            word_list.append(w)\n",
    "    return word_list\n",
    "            "
   ]
  },
  {
   "cell_type": "code",
   "execution_count": 90,
   "id": "7cf7596a",
   "metadata": {},
   "outputs": [
    {
     "name": "stdout",
     "output_type": "stream",
     "text": [
      "['Today', 'Thursday']\n"
     ]
    }
   ],
   "source": [
    "print(long_words(4,['Today', 'is', 'Thursday']))"
   ]
  },
  {
   "cell_type": "code",
   "execution_count": 92,
   "id": "6cb0f306",
   "metadata": {},
   "outputs": [
    {
     "data": {
      "text/plain": [
       "['Today', 'Thursday']"
      ]
     },
     "execution_count": 92,
     "metadata": {},
     "output_type": "execute_result"
    }
   ],
   "source": [
    "lst = ['Today', 'is', 'Thursday']\n",
    "ret_list = [w for w in lst if len(w) > 4]\n",
    "ret_list"
   ]
  },
  {
   "cell_type": "code",
   "execution_count": null,
   "id": "f317f52f",
   "metadata": {},
   "outputs": [],
   "source": []
  },
  {
   "cell_type": "code",
   "execution_count": null,
   "id": "44b46d08",
   "metadata": {},
   "outputs": [],
   "source": []
  }
 ],
 "metadata": {
  "kernelspec": {
   "display_name": "Python 3",
   "language": "python",
   "name": "python3"
  },
  "language_info": {
   "codemirror_mode": {
    "name": "ipython",
    "version": 3
   },
   "file_extension": ".py",
   "mimetype": "text/x-python",
   "name": "python",
   "nbconvert_exporter": "python",
   "pygments_lexer": "ipython3",
   "version": "3.8.8"
  }
 },
 "nbformat": 4,
 "nbformat_minor": 5
}
